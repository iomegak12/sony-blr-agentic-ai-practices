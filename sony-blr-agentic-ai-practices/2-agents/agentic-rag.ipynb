{
 "cells": [
  {
   "cell_type": "markdown",
   "id": "69d1e5c6",
   "metadata": {},
   "source": [
    "### Agentic RAG"
   ]
  },
  {
   "cell_type": "code",
   "execution_count": 1,
   "id": "5e8ec87f",
   "metadata": {},
   "outputs": [],
   "source": [
    "from langchain_community.tools import WikipediaQueryRun\n",
    "from langchain_community.utilities import WikipediaAPIWrapper\n",
    "from langchain_core.tools import tool\n",
    "from langchain_community.utilities import GoogleSerperAPIWrapper"
   ]
  },
  {
   "cell_type": "code",
   "execution_count": 2,
   "id": "34f99094",
   "metadata": {},
   "outputs": [],
   "source": [
    "@tool(\"GoogleSearch\")\n",
    "def search(query_string: str):\n",
    "    \"\"\"\n",
    "    Useful to search for any kinds of information and\n",
    "    when you need to search the internet for any kinds of information, use this tool.\n",
    "    Prefer this tool when you search for long queries.\n",
    "    Should not be used for Article search or Topic Search.\n",
    "    \"\"\"\n",
    "    \n",
    "    search = GoogleSerperAPIWrapper()\n",
    "    \n",
    "    return search.run(query_string)"
   ]
  },
  {
   "cell_type": "code",
   "execution_count": 4,
   "id": "ec68f949",
   "metadata": {},
   "outputs": [],
   "source": [
    "\n",
    "api_wrapper = WikipediaAPIWrapper(top_k_results=1, doc_content_chars_max=1000)\n",
    "wiki = WikipediaQueryRun(\n",
    "    name=\"WikiepdiaSearch\",\n",
    "    description=\"Use this tool when you want to analyze for information on Wikipedia by Terms, Keywords or any Topics.\",\n",
    "    api_wrapper=api_wrapper)"
   ]
  },
  {
   "cell_type": "code",
   "execution_count": 5,
   "id": "4f44b541",
   "metadata": {},
   "outputs": [
    {
     "name": "stderr",
     "output_type": "stream",
     "text": [
      "USER_AGENT environment variable not set, consider setting it to identify your requests.\n"
     ]
    }
   ],
   "source": [
    "from langchain_community.document_loaders import WebBaseLoader\n",
    "from langchain_community.vectorstores import FAISS\n",
    "from langchain_openai import OpenAIEmbeddings\n",
    "from langchain_text_splitters import RecursiveCharacterTextSplitter"
   ]
  },
  {
   "cell_type": "code",
   "execution_count": 6,
   "id": "212674fa",
   "metadata": {},
   "outputs": [],
   "source": [
    "loader = WebBaseLoader(\"https://docs.smith.langchain.com\")\n",
    "docs = loader.load()\n",
    "documents = RecursiveCharacterTextSplitter(\n",
    "    chunk_size = 1000,\n",
    "    chunk_overlap = 200\n",
    ").split_documents(docs)\n",
    "\n",
    "vectordatabase = FAISS.from_documents(documents, OpenAIEmbeddings())\n",
    "retriever = vectordatabase.as_retriever()"
   ]
  },
  {
   "cell_type": "code",
   "execution_count": 7,
   "id": "fe1a1b5d",
   "metadata": {},
   "outputs": [
    {
     "data": {
      "text/plain": [
       "'langsmith_search'"
      ]
     },
     "execution_count": 7,
     "metadata": {},
     "output_type": "execute_result"
    }
   ],
   "source": [
    "from langchain.tools.retriever import create_retriever_tool\n",
    "\n",
    "retriever_tool = create_retriever_tool(\n",
    "    retriever,\n",
    "    \"langsmith_search\",\n",
    "    \"search for information about langsmith. for any questions related to langsmith, you must use this tool\"\n",
    ")\n",
    "\n",
    "retriever_tool.name"
   ]
  },
  {
   "cell_type": "code",
   "execution_count": 8,
   "id": "001b229f",
   "metadata": {},
   "outputs": [],
   "source": [
    "from langchain_community.utilities import ArxivAPIWrapper\n",
    "from langchain_community.tools import ArxivQueryRun"
   ]
  },
  {
   "cell_type": "code",
   "execution_count": 9,
   "id": "69a6ac19",
   "metadata": {},
   "outputs": [],
   "source": [
    "arxiv_wrapper = ArxivAPIWrapper(top_k_results=1, doc_content_chars_max=1000)\n",
    "arxiv = ArxivQueryRun(api_wrapper=arxiv_wrapper)"
   ]
  },
  {
   "cell_type": "code",
   "execution_count": 10,
   "id": "676ad367",
   "metadata": {},
   "outputs": [
    {
     "data": {
      "text/plain": [
       "[ArxivQueryRun(api_wrapper=ArxivAPIWrapper(arxiv_search=<class 'arxiv.Search'>, arxiv_exceptions=(<class 'arxiv.ArxivError'>, <class 'arxiv.UnexpectedEmptyPageError'>, <class 'arxiv.HTTPError'>), top_k_results=1, ARXIV_MAX_QUERY_LENGTH=300, continue_on_failure=False, load_max_docs=100, load_all_available_meta=False, doc_content_chars_max=1000)),\n",
       " StructuredTool(name='GoogleSearch', description='Useful to search for any kinds of information and\\nwhen you need to search the internet for any kinds of information, use this tool.\\nPrefer this tool when you search for long queries.\\nShould not be used for Article search or Topic Search.', args_schema=<class 'langchain_core.utils.pydantic.GoogleSearch'>, func=<function search at 0x000001B26D05B600>),\n",
       " WikipediaQueryRun(name='WikiepdiaSearch', description='Use this tool when you want to analyze for information on Wikipedia by Terms, Keywords or any Topics.', api_wrapper=WikipediaAPIWrapper(wiki_client=<module 'wikipedia' from 'c:\\\\000 - SONY Agentic AI\\\\demonstrations\\\\.venv\\\\Lib\\\\site-packages\\\\wikipedia\\\\__init__.py'>, top_k_results=1, lang='en', load_all_available_meta=False, doc_content_chars_max=1000)),\n",
       " Tool(name='langsmith_search', description='search for information about langsmith. for any questions related to langsmith, you must use this tool', args_schema=<class 'langchain_core.tools.retriever.RetrieverInput'>, func=functools.partial(<function _get_relevant_documents at 0x000001B2076BE7A0>, retriever=VectorStoreRetriever(tags=['FAISS', 'OpenAIEmbeddings'], vectorstore=<langchain_community.vectorstores.faiss.FAISS object at 0x000001B206419450>, search_kwargs={}), document_prompt=PromptTemplate(input_variables=['page_content'], input_types={}, partial_variables={}, template='{page_content}'), document_separator='\\n\\n', response_format='content'), coroutine=functools.partial(<function _aget_relevant_documents at 0x000001B2076BFC40>, retriever=VectorStoreRetriever(tags=['FAISS', 'OpenAIEmbeddings'], vectorstore=<langchain_community.vectorstores.faiss.FAISS object at 0x000001B206419450>, search_kwargs={}), document_prompt=PromptTemplate(input_variables=['page_content'], input_types={}, partial_variables={}, template='{page_content}'), document_separator='\\n\\n', response_format='content'))]"
      ]
     },
     "execution_count": 10,
     "metadata": {},
     "output_type": "execute_result"
    }
   ],
   "source": [
    "tools = [arxiv, search, wiki, retriever_tool]\n",
    "tools"
   ]
  },
  {
   "cell_type": "code",
   "execution_count": 11,
   "id": "900ccaf9",
   "metadata": {},
   "outputs": [],
   "source": [
    "import os\n",
    "\n",
    "from dotenv import load_dotenv\n",
    "from langchain_openai import ChatOpenAI"
   ]
  },
  {
   "cell_type": "code",
   "execution_count": 12,
   "id": "4232f9a8",
   "metadata": {},
   "outputs": [],
   "source": [
    "load_dotenv()\n",
    "\n",
    "llm = ChatOpenAI(\n",
    "    model=\"gpt-4o\",\n",
    "    max_tokens=2000,\n",
    "    temperature=0.1,\n",
    "    openai_api_key=os.environ[\"OPENAI_API_KEY\"]\n",
    ")"
   ]
  },
  {
   "cell_type": "code",
   "execution_count": 13,
   "id": "3a38cb95",
   "metadata": {},
   "outputs": [
    {
     "name": "stderr",
     "output_type": "stream",
     "text": [
      "c:\\000 - SONY Agentic AI\\demonstrations\\.venv\\Lib\\site-packages\\langsmith\\client.py:272: LangSmithMissingAPIKeyWarning: API key must be provided when using hosted LangSmith API\n",
      "  warnings.warn(\n"
     ]
    },
    {
     "data": {
      "text/plain": [
       "[SystemMessagePromptTemplate(prompt=PromptTemplate(input_variables=[], input_types={}, partial_variables={}, template='You are a helpful assistant'), additional_kwargs={}),\n",
       " MessagesPlaceholder(variable_name='chat_history', optional=True),\n",
       " HumanMessagePromptTemplate(prompt=PromptTemplate(input_variables=['input'], input_types={}, partial_variables={}, template='{input}'), additional_kwargs={}),\n",
       " MessagesPlaceholder(variable_name='agent_scratchpad')]"
      ]
     },
     "execution_count": 13,
     "metadata": {},
     "output_type": "execute_result"
    }
   ],
   "source": [
    "from langchain import hub\n",
    "\n",
    "prompt = hub.pull(\"hwchase17/openai-functions-agent\")\n",
    "prompt.messages"
   ]
  },
  {
   "cell_type": "code",
   "execution_count": 15,
   "id": "921231f4",
   "metadata": {},
   "outputs": [],
   "source": [
    "from langgraph.prebuilt import create_react_agent\n",
    "from langchain_core.messages import HumanMessage, SystemMessage\n",
    "\n",
    "agent_executor = create_react_agent(\n",
    "    llm,\n",
    "    tools = tools\n",
    ")"
   ]
  },
  {
   "cell_type": "code",
   "execution_count": 16,
   "id": "18387daa",
   "metadata": {},
   "outputs": [
    {
     "name": "stdout",
     "output_type": "stream",
     "text": [
      "{'agent': {'messages': [AIMessage(content='', additional_kwargs={'tool_calls': [{'id': 'call_f5kHGofkzwF9bRmT1zKO7NJ0', 'function': {'arguments': '{\"query\":\"langsmith\"}', 'name': 'langsmith_search'}, 'type': 'function'}], 'refusal': None}, response_metadata={'token_usage': {'completion_tokens': 16, 'prompt_tokens': 255, 'total_tokens': 271, 'completion_tokens_details': {'accepted_prediction_tokens': 0, 'audio_tokens': 0, 'reasoning_tokens': 0, 'rejected_prediction_tokens': 0}, 'prompt_tokens_details': {'audio_tokens': 0, 'cached_tokens': 0}}, 'model_name': 'gpt-4o-2024-08-06', 'system_fingerprint': None, 'id': 'chatcmpl-BtXK5zXK9lc60cbeq7l7Rja9vnfeo', 'service_tier': 'default', 'finish_reason': 'tool_calls', 'logprobs': None}, id='run--a960417e-e543-49c0-8d52-d761dbb55a4f-0', tool_calls=[{'name': 'langsmith_search', 'args': {'query': 'langsmith'}, 'id': 'call_f5kHGofkzwF9bRmT1zKO7NJ0', 'type': 'tool_call'}], usage_metadata={'input_tokens': 255, 'output_tokens': 16, 'total_tokens': 271, 'input_token_details': {'audio': 0, 'cache_read': 0}, 'output_token_details': {'audio': 0, 'reasoning': 0}})]}}\n",
      "***********\n",
      "{'tools': {'messages': [ToolMessage(content=\"Get started with LangSmith | \\uf8ffü¶úÔ∏è\\uf8ffüõ†Ô∏è LangSmith\\n\\nLangSmith + LangChain OSSLangSmith is framework-agnostic ‚Äî¬†it can be used with or without LangChain's open source frameworks langchain and langgraph.If you are using either of these, you can enable LangSmith tracing with a single environment variable.\\nFor more see the how-to guide for setting up LangSmith with LangChain or setting up LangSmith with LangGraph.\\nObservability‚Äã\\nObservability is important for any software application, but especially so for LLM applications. LLMs are non-deterministic by nature, meaning they can produce unexpected results. This makes them trickier than normal to debug.\\nThis is where LangSmith can help! LangSmith has LLM-native observability, allowing you to get meaningful insights from your application. LangSmith‚Äôs observability features have you covered throughout all stages of application development - from prototyping, to beta testing, to production.\\n\\nSkip to main contentOur Building Ambient Agents with LangGraph course is now available on LangChain Academy!API ReferenceRESTPythonJS/TSSearchRegionUSEUGo to AppGet StartedObservabilityEvaluationPrompt EngineeringDeployment (LangGraph Platform)AdministrationSelf-hostingPricingReferenceCloud architecture and scalabilityAuthz and AuthnAuthentication methodsdata_formatsEvaluationDataset transformationsRegions FAQsdk_referenceGet StartedOn this pageGet started with LangSmith\\nLangSmith is a platform for building production-grade LLM applications.\\nIt allows you to closely monitor and evaluate your application, so you can ship quickly and with confidence.\\nObservabilityAnalyze traces in LangSmith and configure metrics, dashboards, alerts based on these.EvalsEvaluate your application over production traffic ‚Äî score application performance and get human feedback on your data.Prompt EngineeringIterate on prompts, with automatic version control and collaboration features.\\n\\nGet started by adding tracing to your application.\\nCreate dashboards to view key metrics like RPS, error rates and costs.\\n\\nEvals‚Äã\\nThe quality and development speed of AI applications depends on high-quality evaluation datasets and metrics to test and optimize your applications on. The LangSmith SDK and UI make building and running high-quality evaluations easy.\\n\\nGet started by creating your first evaluation.\\nQuickly assess the performance of your application using our off-the-shelf evaluators as a starting point.\\nAnalyze results of evaluations in the LangSmith UI and compare results over time.\\nEasily collect human feedback on your data to improve your application.\\n\\nPrompt Engineering‚Äã\\nWhile traditional software applications are built by writing code, AI applications involve writing prompts to instruct the LLM on what to do. LangSmith provides a set of tools designed to enable and facilitate prompt engineering to help you find the perfect prompt for your application.\", name='langsmith_search', id='6ec4957d-4fab-4f32-8f32-dc336388c4c0', tool_call_id='call_f5kHGofkzwF9bRmT1zKO7NJ0')]}}\n",
      "***********\n",
      "{'agent': {'messages': [AIMessage(content=\"LangSmith is a platform designed for building production-grade LLM (Large Language Model) applications. It is framework-agnostic, meaning it can be used with or without LangChain's open-source frameworks like langchain and langgraph. LangSmith offers several key features:\\n\\n1. **Observability**: LangSmith provides LLM-native observability, allowing developers to gain meaningful insights from their applications. This is crucial for debugging, as LLMs are non-deterministic and can produce unexpected results. The platform supports monitoring and evaluating applications throughout all stages of development, from prototyping to production.\\n\\n2. **Evaluation**: LangSmith facilitates the evaluation of applications over production traffic, enabling developers to score application performance and gather human feedback on data. It provides tools for building and running high-quality evaluations, analyzing results, and collecting human feedback to improve applications.\\n\\n3. **Prompt Engineering**: LangSmith offers tools for prompt engineering, which is essential for AI applications that rely on writing prompts to instruct the LLM. The platform supports automatic version control and collaboration features to help developers iterate on prompts and find the optimal ones for their applications.\\n\\nLangSmith also includes features for creating dashboards to view key metrics like requests per second (RPS), error rates, and costs, making it easier to monitor and optimize application performance.\", additional_kwargs={'refusal': None}, response_metadata={'token_usage': {'completion_tokens': 265, 'prompt_tokens': 847, 'total_tokens': 1112, 'completion_tokens_details': {'accepted_prediction_tokens': 0, 'audio_tokens': 0, 'reasoning_tokens': 0, 'rejected_prediction_tokens': 0}, 'prompt_tokens_details': {'audio_tokens': 0, 'cached_tokens': 0}}, 'model_name': 'gpt-4o-2024-08-06', 'system_fingerprint': None, 'id': 'chatcmpl-BtXK7p6tcGAIdZi3cd9TzhzvWgfiy', 'service_tier': 'default', 'finish_reason': 'stop', 'logprobs': None}, id='run--c0a1c2de-2289-4a75-9c2b-bd0387c04c6d-0', usage_metadata={'input_tokens': 847, 'output_tokens': 265, 'total_tokens': 1112, 'input_token_details': {'audio': 0, 'cache_read': 0}, 'output_token_details': {'audio': 0, 'reasoning': 0}})]}}\n",
      "***********\n"
     ]
    }
   ],
   "source": [
    "for stream in agent_executor.stream({\n",
    "    \"messages\": [\n",
    "        HumanMessage(content=\"tell me about langsmith\")\n",
    "    ]\n",
    "}):\n",
    "    print(stream)\n",
    "    print(\"***********\")"
   ]
  },
  {
   "cell_type": "code",
   "execution_count": 17,
   "id": "95cc926a",
   "metadata": {},
   "outputs": [
    {
     "name": "stdout",
     "output_type": "stream",
     "text": [
      "{'agent': {'messages': [AIMessage(content='', additional_kwargs={'tool_calls': [{'id': 'call_Kq8s2SI08WW7gR1fOelFrLr1', 'function': {'arguments': '{\"query\":\"2412.16446\"}', 'name': 'arxiv'}, 'type': 'function'}], 'refusal': None}, response_metadata={'token_usage': {'completion_tokens': 18, 'prompt_tokens': 264, 'total_tokens': 282, 'completion_tokens_details': {'accepted_prediction_tokens': 0, 'audio_tokens': 0, 'reasoning_tokens': 0, 'rejected_prediction_tokens': 0}, 'prompt_tokens_details': {'audio_tokens': 0, 'cached_tokens': 0}}, 'model_name': 'gpt-4o-2024-08-06', 'system_fingerprint': None, 'id': 'chatcmpl-BtXKT5Fsor9pi6HDLOMtBCiFtXpLa', 'service_tier': 'default', 'finish_reason': 'tool_calls', 'logprobs': None}, id='run--7db40a4b-d2ef-4cb6-84bd-e3337d252e9c-0', tool_calls=[{'name': 'arxiv', 'args': {'query': '2412.16446'}, 'id': 'call_Kq8s2SI08WW7gR1fOelFrLr1', 'type': 'tool_call'}], usage_metadata={'input_tokens': 264, 'output_tokens': 18, 'total_tokens': 282, 'input_token_details': {'audio': 0, 'cache_read': 0}, 'output_token_details': {'audio': 0, 'reasoning': 0}})]}}\n",
      "***********\n",
      "{'tools': {'messages': [ToolMessage(content='Published: 2024-12-21\\nTitle: Sensitive Image Classification by Vision Transformers\\nAuthors: Hanxian He, Campbell Wilson, Thanh Thi Nguyen, Janis Dalins\\nSummary: When it comes to classifying child sexual abuse images, managing similar\\ninter-class correlations and diverse intra-class correlations poses a\\nsignificant challenge. Vision transformer models, unlike conventional deep\\nconvolutional network models, leverage a self-attention mechanism to capture\\nglobal interactions among contextual local elements. This allows them to\\nnavigate through image patches effectively, avoiding incorrect correlations and\\nreducing ambiguity in attention maps, thus proving their efficacy in computer\\nvision tasks. Rather than directly analyzing child sexual abuse data, we\\nconstructed two datasets: one comprising clean and pornographic images and\\nanother with three classes, which additionally include images indicative of\\npornography, sourced from Reddit and Google Open Images data. In our\\nexperiments, we also', name='arxiv', id='2d07fc1f-5cd2-4894-a917-e10e5fd0659b', tool_call_id='call_Kq8s2SI08WW7gR1fOelFrLr1')]}}\n",
      "***********\n",
      "{'agent': {'messages': [AIMessage(content='The paper titled \"Sensitive Image Classification by Vision Transformers\" discusses the challenges of classifying images related to child sexual abuse, focusing on the difficulties posed by similar inter-class correlations and diverse intra-class correlations. The authors explore the use of vision transformer models, which utilize a self-attention mechanism to capture global interactions among contextual local elements. This approach helps in navigating image patches effectively, reducing incorrect correlations and ambiguity in attention maps, thereby enhancing performance in computer vision tasks.\\n\\nInstead of directly analyzing child sexual abuse data, the authors constructed two datasets: one consisting of clean and pornographic images, and another with three classes, including images indicative of pornography. These datasets were sourced from Reddit and Google Open Images data. The study highlights the efficacy of vision transformers in handling sensitive image classification tasks.', additional_kwargs={'refusal': None}, response_metadata={'token_usage': {'completion_tokens': 156, 'prompt_tokens': 478, 'total_tokens': 634, 'completion_tokens_details': {'accepted_prediction_tokens': 0, 'audio_tokens': 0, 'reasoning_tokens': 0, 'rejected_prediction_tokens': 0}, 'prompt_tokens_details': {'audio_tokens': 0, 'cached_tokens': 0}}, 'model_name': 'gpt-4o-2024-08-06', 'system_fingerprint': None, 'id': 'chatcmpl-BtXKWQw2IuoAAI7DWFOUv6gkevvB7', 'service_tier': 'default', 'finish_reason': 'stop', 'logprobs': None}, id='run--6f6eda45-bbcf-4396-8d50-323df582b16a-0', usage_metadata={'input_tokens': 478, 'output_tokens': 156, 'total_tokens': 634, 'input_token_details': {'audio': 0, 'cache_read': 0}, 'output_token_details': {'audio': 0, 'reasoning': 0}})]}}\n",
      "***********\n"
     ]
    }
   ],
   "source": [
    "for stream in agent_executor.stream({\n",
    "    \"messages\": [\n",
    "        HumanMessage(content=\"whats the paper 2412.16446 talk about it?\")\n",
    "    ]\n",
    "}):\n",
    "    print(stream)\n",
    "    print(\"***********\")"
   ]
  },
  {
   "cell_type": "code",
   "execution_count": 20,
   "id": "ef6015ef",
   "metadata": {},
   "outputs": [
    {
     "name": "stdout",
     "output_type": "stream",
     "text": [
      "{'agent': {'messages': [AIMessage(content='', additional_kwargs={'tool_calls': [{'id': 'call_T4DEdEIiuF5zUemY5rqj40eE', 'function': {'arguments': '{\"query\":\"Indian Constitution\"}', 'name': 'WikiepdiaSearch'}, 'type': 'function'}], 'refusal': None}, response_metadata={'token_usage': {'completion_tokens': 19, 'prompt_tokens': 252, 'total_tokens': 271, 'completion_tokens_details': {'accepted_prediction_tokens': 0, 'audio_tokens': 0, 'reasoning_tokens': 0, 'rejected_prediction_tokens': 0}, 'prompt_tokens_details': {'audio_tokens': 0, 'cached_tokens': 0}}, 'model_name': 'gpt-4o-2024-08-06', 'system_fingerprint': None, 'id': 'chatcmpl-BtXMD6QKEBOIN5zZHKTSK4fFwd9Gk', 'service_tier': 'default', 'finish_reason': 'tool_calls', 'logprobs': None}, id='run--57f96da2-761c-4e39-a223-03589bd86fc6-0', tool_calls=[{'name': 'WikiepdiaSearch', 'args': {'query': 'Indian Constitution'}, 'id': 'call_T4DEdEIiuF5zUemY5rqj40eE', 'type': 'tool_call'}], usage_metadata={'input_tokens': 252, 'output_tokens': 19, 'total_tokens': 271, 'input_token_details': {'audio': 0, 'cache_read': 0}, 'output_token_details': {'audio': 0, 'reasoning': 0}})]}}\n",
      "***********\n",
      "{'tools': {'messages': [ToolMessage(content=\"Page: Constitution of India\\nSummary: The Constitution of India is the supreme legal document of India, and the longest written national constitution in the world. The document lays down the framework that demarcates fundamental political code, structure, procedures, powers, and duties of government institutions and sets out fundamental rights, directive principles, and the duties of citizens. \\nIt espouses constitutional supremacy (not parliamentary supremacy found in the United Kingdom, since it was created by a constituent assembly rather than Parliament) and was adopted with a declaration in its preamble. Although the Indian Constitution does not contain a provision to limit the powers of the parliament to amend the constitution, the Supreme Court in Kesavananda Bharati v. State of Kerala held that there were certain features of the Indian constitution so integral to its functioning and existence that they could never be cut out of the constitution. This is known as the 'Basic Struct\", name='WikiepdiaSearch', id='def00464-b0bb-45e5-a2f8-a673659da1b8', tool_call_id='call_T4DEdEIiuF5zUemY5rqj40eE')]}}\n",
      "***********\n",
      "{'agent': {'messages': [AIMessage(content=\"The Constitution of India is the supreme legal document of India and is recognized as the longest written national constitution in the world. It establishes the fundamental political code, structure, procedures, powers, and duties of government institutions, and outlines the fundamental rights, directive principles, and duties of citizens.\\n\\nKey features include:\\n\\n- **Constitutional Supremacy**: Unlike the United Kingdom, which follows parliamentary supremacy, India follows constitutional supremacy. This means the Constitution was created by a constituent assembly rather than Parliament.\\n\\n- **Amendment Process**: Although the Constitution does not explicitly limit Parliament's power to amend it, the Supreme Court, in the landmark case of Kesavananda Bharati v. State of Kerala, established the doctrine of the 'Basic Structure'. This doctrine holds that certain fundamental features of the Constitution are so essential to its identity and functioning that they cannot be altered or destroyed through amendments.\", additional_kwargs={'refusal': None}, response_metadata={'token_usage': {'completion_tokens': 180, 'prompt_tokens': 463, 'total_tokens': 643, 'completion_tokens_details': {'accepted_prediction_tokens': 0, 'audio_tokens': 0, 'reasoning_tokens': 0, 'rejected_prediction_tokens': 0}, 'prompt_tokens_details': {'audio_tokens': 0, 'cached_tokens': 0}}, 'model_name': 'gpt-4o-2024-08-06', 'system_fingerprint': None, 'id': 'chatcmpl-BtXMH7Uo5MOJL7ArHTrVuy1Aotprq', 'service_tier': 'default', 'finish_reason': 'stop', 'logprobs': None}, id='run--c4bdc96f-bae9-4b4f-9312-dc41e2bee3a1-0', usage_metadata={'input_tokens': 463, 'output_tokens': 180, 'total_tokens': 643, 'input_token_details': {'audio': 0, 'cache_read': 0}, 'output_token_details': {'audio': 0, 'reasoning': 0}})]}}\n",
      "***********\n"
     ]
    }
   ],
   "source": [
    "for stream in agent_executor.stream({\n",
    "    \"messages\": [\n",
    "        HumanMessage(content=\"Indian Constitution\")\n",
    "    ]\n",
    "}):\n",
    "    print(stream)\n",
    "    print(\"***********\")"
   ]
  },
  {
   "cell_type": "code",
   "execution_count": 22,
   "id": "7019a117",
   "metadata": {},
   "outputs": [
    {
     "name": "stdout",
     "output_type": "stream",
     "text": [
      "{'agent': {'messages': [AIMessage(content='', additional_kwargs={'tool_calls': [{'id': 'call_6BIoSj9ra1f7QLTOnCJae64X', 'function': {'arguments': '{\"query_string\":\"2025 World Test Championship winner\"}', 'name': 'GoogleSearch'}, 'type': 'function'}], 'refusal': None}, response_metadata={'token_usage': {'completion_tokens': 20, 'prompt_tokens': 265, 'total_tokens': 285, 'completion_tokens_details': {'accepted_prediction_tokens': 0, 'audio_tokens': 0, 'reasoning_tokens': 0, 'rejected_prediction_tokens': 0}, 'prompt_tokens_details': {'audio_tokens': 0, 'cached_tokens': 0}}, 'model_name': 'gpt-4o-2024-08-06', 'system_fingerprint': None, 'id': 'chatcmpl-BtXNHaXXSoE4Q0Bw6TkdnmGOPUQmV', 'service_tier': 'default', 'finish_reason': 'tool_calls', 'logprobs': None}, id='run--a7ff6041-d867-45a0-abc0-5688aa24fada-0', tool_calls=[{'name': 'GoogleSearch', 'args': {'query_string': '2025 World Test Championship winner'}, 'id': 'call_6BIoSj9ra1f7QLTOnCJae64X', 'type': 'tool_call'}], usage_metadata={'input_tokens': 265, 'output_tokens': 20, 'total_tokens': 285, 'input_token_details': {'audio': 0, 'cache_read': 0}, 'output_token_details': {'audio': 0, 'reasoning': 0}})]}}\n",
      "***********\n",
      "{'tools': {'messages': [ToolMessage(content=\"South Africa won the match by 5 wickets to win the third edition of the ICC World Test Championship. This marked South Africa's maiden win of the Championship. In the final, South Africa defeated Australia by 5 wickets to win their maiden championship. This was also their second ICC trophy after 1998. Live Cricket Scoreboard: Get Australia vs South Africa Final, cricket scorecard, ICC World Test Championship 2023-2025 dated June 11 - 14, 2025. ICC World Test Championship 2023-2025. South Africa. Winner. South Africa. Matches. RESULT. Final, Lord's, June 11 - 14, 2025, ICC World Test Championship. An historic success for the Proteas in the Ultimate Test at Lord's as South Africa defeat Australia by five wickets inside four days. Markram steers South Africa to historic World Test Championship final triumph. Final, D4: South Africa, 138 & 282-5, bt Australia, 212 & 207, by ... South Africa sealed World Test Championship Final victory, ending a 27-year ICC trophy hoodoo, and overcoming modern Goliaths Australia to lift the famous mace. ICC World Test Championship Final 2025Final. Completed. South Africa win by 5 wickets. South Africa Men. 138 &. 5-282. Completed. Australia Men. The ICC World Test Championship (WTC) 2025 came to a conclusion on Saturday, June 14, with the Temba Bavuma-led South Africa winning their first WTC mace. South Africa have clinched their first ICC title in 27 years, beating Australia to win the World Test Championship (WTC) final 2025.\", name='GoogleSearch', id='653a2bf7-6511-491e-a137-32dd77c1d7ce', tool_call_id='call_6BIoSj9ra1f7QLTOnCJae64X')]}}\n",
      "***********\n",
      "{'agent': {'messages': [AIMessage(content='South Africa won the ICC World Test Championship (WTC) in 2025. They defeated Australia by 5 wickets in the final, marking their maiden win of the Championship and their second ICC trophy after 1998.', additional_kwargs={'refusal': None}, response_metadata={'token_usage': {'completion_tokens': 46, 'prompt_tokens': 644, 'total_tokens': 690, 'completion_tokens_details': {'accepted_prediction_tokens': 0, 'audio_tokens': 0, 'reasoning_tokens': 0, 'rejected_prediction_tokens': 0}, 'prompt_tokens_details': {'audio_tokens': 0, 'cached_tokens': 0}}, 'model_name': 'gpt-4o-2024-08-06', 'system_fingerprint': None, 'id': 'chatcmpl-BtXNK6IsDGiKdli7jO0txzbEJGDcG', 'service_tier': 'default', 'finish_reason': 'stop', 'logprobs': None}, id='run--0752cd48-9408-4de9-8208-fd972feb0330-0', usage_metadata={'input_tokens': 644, 'output_tokens': 46, 'total_tokens': 690, 'input_token_details': {'audio': 0, 'cache_read': 0}, 'output_token_details': {'audio': 0, 'reasoning': 0}})]}}\n",
      "***********\n"
     ]
    }
   ],
   "source": [
    "for stream in agent_executor.stream({\n",
    "    \"messages\": [\n",
    "        HumanMessage(content=\"Who won the world cup in the Year 2025 in WTC?\")\n",
    "    ]\n",
    "}):\n",
    "    print(stream)\n",
    "    print(\"***********\")"
   ]
  }
 ],
 "metadata": {
  "kernelspec": {
   "display_name": "demonstrations",
   "language": "python",
   "name": "python3"
  },
  "language_info": {
   "codemirror_mode": {
    "name": "ipython",
    "version": 3
   },
   "file_extension": ".py",
   "mimetype": "text/x-python",
   "name": "python",
   "nbconvert_exporter": "python",
   "pygments_lexer": "ipython3",
   "version": "3.11.11"
  }
 },
 "nbformat": 4,
 "nbformat_minor": 5
}
