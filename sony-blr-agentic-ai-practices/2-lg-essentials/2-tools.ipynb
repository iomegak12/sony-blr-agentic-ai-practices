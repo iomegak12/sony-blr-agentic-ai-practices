{
 "cells": [
  {
   "cell_type": "code",
   "execution_count": 4,
   "metadata": {},
   "outputs": [
    {
     "data": {
      "text/plain": [
       "True"
      ]
     },
     "execution_count": 4,
     "metadata": {},
     "output_type": "execute_result"
    }
   ],
   "source": [
    "from typing import Annotated\n",
    "\n",
    "from langchain_anthropic import ChatAnthropic\n",
    "from langchain_openai import ChatOpenAI\n",
    "from typing_extensions import TypedDict\n",
    "\n",
    "from langgraph.graph import StateGraph\n",
    "from langgraph.graph.message import add_messages\n",
    "\n",
    "import os \n",
    "\n",
    "from dotenv import load_dotenv\n",
    "\n",
    "load_dotenv()"
   ]
  },
  {
   "cell_type": "code",
   "execution_count": 5,
   "metadata": {},
   "outputs": [
    {
     "data": {
      "text/plain": [
       "[{'title': \"Introduction to LangGraph: A Beginner's Guide - Medium\",\n",
       "  'url': 'https://medium.com/@cplog/introduction-to-langgraph-a-beginners-guide-14f9be027141',\n",
       "  'content': 'Stateful Graph: LangGraph revolves around the concept of a stateful graph, where each node in the graph represents a step in your computation, and the graph maintains a state that is passed around and updated as the computation progresses.\\n   Nodes: Nodes are the building blocks of your LangGraph. Each node represents a function or a computation step. You define nodes to perform specific tasks, such as processing input, making decisions, or interacting with external APIs.',\n",
       "  'score': 0.86954874},\n",
       " {'title': 'LangGraph Tutorial: What Is LangGraph and How to Use It?',\n",
       "  'url': 'https://www.datacamp.com/tutorial/langgraph-tutorial',\n",
       "  'content': 'Let’s see how we can set up LangGraph and what the basic concepts are.\\n\\n### Installation\\n\\nTo install LangGraph, you can use `pip`:\\n\\n```python\\npip install -U langgraph\\n```\\n\\nPowered By\\n\\nWas this AI assistant helpful? Yes No\\n\\n### Basic Concepts\\n\\nNodes: Nodes represent units of work within your LangGraph. They are typically Python functions that perform a specific task, such as: [...] Imagine your application as a directed graph. In LangGraph, each node represents an LLM agent, and the edges are the communication channels between these agents. This structure allows for clear and manageable workflows, where each agent performs specific tasks and passes information to other agents as needed.\\n\\n### State management [...] Interacting with an LLM\\n   Calling a tool or API\\n   Performing some data manipulation\\n   Receiving user input\\n   Executing business logic\\n\\nIn LangGraph, you can add nodes using the `graph.add_node(name, value)` syntax.\\n\\nEdges: Edges are communication channels between nodes. They define the flow of information and the order of execution. You can add edges using the `graph.add_edge(node1, node2)` syntax.',\n",
       "  'score': 0.84918517}]"
      ]
     },
     "execution_count": 5,
     "metadata": {},
     "output_type": "execute_result"
    }
   ],
   "source": [
    "from langchain_community.tools.tavily_search import TavilySearchResults\n",
    "\n",
    "tool = TavilySearchResults(max_results=2)\n",
    "tools = [tool]\n",
    "tool.invoke(\"What's a 'node' in LangGraph?\")"
   ]
  },
  {
   "cell_type": "code",
   "execution_count": 6,
   "metadata": {},
   "outputs": [
    {
     "data": {
      "text/plain": [
       "<langgraph.graph.state.StateGraph at 0x1860e77bd90>"
      ]
     },
     "execution_count": 6,
     "metadata": {},
     "output_type": "execute_result"
    }
   ],
   "source": [
    "from langgraph.graph import StateGraph, START, END\n",
    "from langgraph.graph.message import add_messages\n",
    "\n",
    "\n",
    "class State(TypedDict):\n",
    "    messages: Annotated[list, add_messages]\n",
    "\n",
    "\n",
    "graph_builder = StateGraph(State)\n",
    "\n",
    "\n",
    "llm = ChatOpenAI(\n",
    "    model=\"gpt-3.5-turbo\",\n",
    "    api_key=os.getenv(\"OPENAI_API_KEY\")\n",
    ")\n",
    "\n",
    "llm_with_tools = llm.bind_tools(tools)\n",
    "\n",
    "\n",
    "def chatbot(state: State):\n",
    "    return {\"messages\": [llm_with_tools.invoke(state[\"messages\"])]}\n",
    "\n",
    "\n",
    "graph_builder.add_node(\"chatbot\", chatbot)"
   ]
  },
  {
   "cell_type": "code",
   "execution_count": 7,
   "metadata": {},
   "outputs": [
    {
     "data": {
      "text/plain": [
       "<langgraph.graph.state.StateGraph at 0x1860e77bd90>"
      ]
     },
     "execution_count": 7,
     "metadata": {},
     "output_type": "execute_result"
    }
   ],
   "source": [
    "import json\n",
    "\n",
    "from langchain_core.messages import ToolMessage\n",
    "\n",
    "\n",
    "class BasicToolNode:\n",
    "    \"\"\"A node that runs the tools requested in the last AIMessage.\"\"\"\n",
    "\n",
    "    def __init__(self, tools: list) -> None:\n",
    "        self.tools_by_name = {tool.name: tool for tool in tools}\n",
    "\n",
    "    def __call__(self, inputs: dict):\n",
    "        if messages := inputs.get(\"messages\", []):\n",
    "            message = messages[-1]\n",
    "        else:\n",
    "            raise ValueError(\"No message found in input\")\n",
    "        outputs = []\n",
    "        for tool_call in message.tool_calls:\n",
    "            tool_result = self.tools_by_name[tool_call[\"name\"]].invoke(\n",
    "                tool_call[\"args\"]\n",
    "            )\n",
    "            outputs.append(\n",
    "                ToolMessage(\n",
    "                    content=json.dumps(tool_result),\n",
    "                    name=tool_call[\"name\"],\n",
    "                    tool_call_id=tool_call[\"id\"],\n",
    "                )\n",
    "            )\n",
    "        return {\"messages\": outputs}\n",
    "\n",
    "\n",
    "tool_node = BasicToolNode(tools=[tool])\n",
    "graph_builder.add_node(\"tools\", tool_node)"
   ]
  },
  {
   "cell_type": "code",
   "execution_count": 8,
   "metadata": {},
   "outputs": [],
   "source": [
    "def route_tools(\n",
    "    state: State,\n",
    "):\n",
    "    \"\"\"\n",
    "    Use in the conditional_edge to route to the ToolNode if the last message\n",
    "    has tool calls. Otherwise, route to the end.\n",
    "    \"\"\"\n",
    "    if isinstance(state, list):\n",
    "        ai_message = state[-1]\n",
    "    elif messages := state.get(\"messages\", []):\n",
    "        ai_message = messages[-1]\n",
    "    else:\n",
    "        raise ValueError(f\"No messages found in input state to tool_edge: {state}\")\n",
    "    if hasattr(ai_message, \"tool_calls\") and len(ai_message.tool_calls) > 0:\n",
    "        return \"tools\"\n",
    "    return END\n",
    "\n",
    "\n",
    "# The `tools_condition` function returns \"tools\" if the chatbot asks to use a tool, and \"END\" if\n",
    "# it is fine directly responding. This conditional routing defines the main agent loop.\n",
    "graph_builder.add_conditional_edges(\n",
    "    \"chatbot\",\n",
    "    route_tools,\n",
    "    # The following dictionary lets you tell the graph to interpret the condition's outputs as a specific node\n",
    "    # It defaults to the identity function, but if you\n",
    "    # want to use a node named something else apart from \"tools\",\n",
    "    # You can update the value of the dictionary to something else\n",
    "    # e.g., \"tools\": \"my_tools\"\n",
    "    {\"tools\": \"tools\", END: END},\n",
    ")\n",
    "# Any time a tool is called, we return to the chatbot to decide the next step\n",
    "graph_builder.add_edge(\"tools\", \"chatbot\")\n",
    "graph_builder.add_edge(START, \"chatbot\")\n",
    "graph = graph_builder.compile()"
   ]
  },
  {
   "cell_type": "code",
   "execution_count": 9,
   "metadata": {},
   "outputs": [
    {
     "data": {
      "image/png": "[encoded data removed]",
      "text/plain": [
       "<IPython.core.display.Image object>"
      ]
     },
     "metadata": {},
     "output_type": "display_data"
    }
   ],
   "source": [
    "from IPython.display import Image, display\n",
    "\n",
    "try:\n",
    "    display(Image(graph.get_graph().draw_mermaid_png()))\n",
    "except Exception:\n",
    "    # This requires some extra dependencies and is optional\n",
    "    pass"
   ]
  },
  {
   "cell_type": "code",
   "execution_count": 10,
   "metadata": {},
   "outputs": [
    {
     "name": "stdout",
     "output_type": "stream",
     "text": [
      "Assistant: \n",
      "Assistant: [{\"title\": \"What is Machine Learning? - GeeksforGeeks\", \"url\": \"https://www.geeksforgeeks.org/machine-learning/ml-machine-learning/\", \"content\": \"How machine learning algorithms work?\\n-------------------------------------\\n\\nA machine learning algorithm works by learning patterns and relationships from data to make predictions or decisions without being explicitly programmed for each task.\\n\\nHere's a simplified overview of how a typical machine learning algorithm works:\\n\\n### 1. Data Collection [...] Machine learning is a branch of artificial intelligence that enables algorithms to uncover hidden patterns within datasets. It allows them to predict new, similar data without explicit programming for each task. Machine learning finds applications in diverse fields such as image and speech recognition, natural language processing, recommendation systems, fraud detection, portfolio optimization, and automating tasks.\", \"score\": 0.8690161}, {\"title\": \"Machine learning - Wikipedia\", \"url\": \"https://en.wikipedia.org/wiki/Machine_learning\", \"content\": \"Machine learning (ML) is a field of study in artificial intelligence concerned with the development and study of statistical algorithms that can learn from data and generalise to unseen data, and thus perform tasks \\\"Task (computing)\\\") without explicit instructions.( Within a subdiscipline in machine learning, advances in the field of deep learning have allowed neural networks \\\"Neural network (machine learning)\\\"), a class of statistical algorithms, to surpass many previous machine learning\", \"score\": 0.78788257}]\n",
      "Assistant: Machine Learning (ML) works by learning patterns and relationships from data to make predictions or decisions without being explicitly programmed for each task. ML algorithms enable the uncovering of hidden patterns within datasets, allowing predictions on new, similar data without the need for explicit programming for each specific task.\n",
      "\n",
      "Here are some key points on how a typical machine learning algorithm works:\n",
      "\n",
      "1. **Data Collection**: The algorithm starts by collecting and preparing the data needed for training.\n",
      "2. **Training**: The algorithm learns from the data by identifying patterns and relationships.\n",
      "3. **Testing and Validation**: The model is tested on new data to ensure its accuracy and performance.\n",
      "4. **Prediction and Decision Making**: Once trained, the model can make predictions or decisions based on new input data.\n",
      "\n",
      "If you want to dive deeper into the details of how Machine Learning works, you can refer to resources such as [GeeksforGeeks](https://www.geeksforgeeks.org/machine-learning/ml-machine-learning/) or [Wikipedia](https://en.wikipedia.org/wiki/Machine_learning).\n",
      "Assistant: Linear regression is a fundamental machine learning algorithm used for predictive analysis. It is a supervised learning algorithm that is used to model the relationship between a dependent variable and one or more independent variables. Here is a detailed explanation of the Linear Regression algorithm:\n",
      "\n",
      "### Overview:\n",
      "Linear regression is based on the assumption of a linear relationship between the input variables (independent variables) and the output variable (dependent variable).\n",
      "\n",
      "### Objective:\n",
      "The primary goal of linear regression is to find the best-fitting straight line that describes the relationship between the independent and dependent variables. This line is represented by the equation: \n",
      "    Y = β0 + β1*X1 + β2*X2 + ... + βn*Xn\n",
      "\n",
      "- Y: Dependent variable\n",
      "- X1, X2, ..., Xn: Independent variables\n",
      "- β0, β1, β2, ..., βn: Coefficients (parameters to be learned)\n",
      "\n",
      "### Steps in Linear Regression:\n",
      "1. **Data Collection:** Gather the dataset with input features (independent variables) and the target variable (dependent variable).\n",
      "   \n",
      "2. **Data Preprocessing:** Clean the data, handle missing values, encode categorical variables, and split the data into training and testing sets.\n",
      "\n",
      "3. **Model Training:** \n",
      "   - **Simple Linear Regression:** When there is only one independent variable.\n",
      "   - **Multiple Linear Regression:** When there are multiple independent variables.\n",
      "   \n",
      "4. **Model Evaluation:** Use metrics like Mean Squared Error (MSE) or R-squared to evaluate the model's performance.\n",
      "\n",
      "5. **Prediction:** Once the model is trained, make predictions on new data.\n",
      "\n",
      "### Training Process:\n",
      "- The model aims to minimize the difference between the actual target values and the predicted values (least squares method).\n",
      "- This is achieved by adjusting the coefficients (β) during the training process using optimization techniques like Gradient Descent.\n",
      "\n",
      "### Assumptions of Linear Regression:\n",
      "1. **Linearity:** The relationship between the independent and dependent variables is linear.\n",
      "2. **Independence:** The independent variables are independent of each other.\n",
      "3. **Homoscedasticity:** The variance of the errors is constant across all levels of the independent variables.\n",
      "4. **Normality:** The residuals (errors) follow a normal distribution.\n",
      "\n",
      "### Applications:\n",
      "- Prediction and forecasting (e.g., predicting sales based on advertising expenditure).\n",
      "- Risk assessment.\n",
      "- Understanding relationships between variables.\n",
      "\n",
      "### Variants:\n",
      "- **Ridge Regression:** Adds a penalty term to prevent overfitting.\n",
      "- **Lasso Regression:** Uses L1 regularization for feature selection.\n",
      "- **Elastic Net:** Combines L1 and L2 regularization.\n",
      "\n",
      "### Importance:\n",
      "- Widely used in statistics and machine learning for its simplicity and interpretability.\n",
      "- Helps in understanding the relationship between variables.\n",
      "\n",
      "Linear regression serves as a foundational model and forms the basis for more complex regression techniques in machine learning.\n",
      "Goodbye!\n"
     ]
    }
   ],
   "source": [
    "def stream_graph_updates(user_input: str):\n",
    "    for event in graph.stream({\"messages\": [{\"role\": \"user\", \"content\": user_input}]}):\n",
    "        for value in event.values():\n",
    "            print(\"Assistant:\", value[\"messages\"][-1].content)\n",
    "\n",
    "while True:\n",
    "    try:\n",
    "        user_input = input(\"User: \")\n",
    "        if user_input.lower() in [\"quit\", \"exit\", \"q\"]:\n",
    "            print(\"Goodbye!\")\n",
    "            break\n",
    "\n",
    "        stream_graph_updates(user_input)\n",
    "    except:\n",
    "        # fallback if input() is not available\n",
    "        user_input = \"What do you know about LangGraph?\"\n",
    "        print(\"User: \" + user_input)\n",
    "        stream_graph_updates(user_input)\n",
    "        break"
   ]
  }
 ],
 "metadata": {
  "kernelspec": {
   "display_name": "demonstrations",
   "language": "python",
   "name": "python3"
  },
  "language_info": {
   "codemirror_mode": {
    "name": "ipython",
    "version": 3
   },
   "file_extension": ".py",
   "mimetype": "text/x-python",
   "name": "python",
   "nbconvert_exporter": "python",
   "pygments_lexer": "ipython3",
   "version": "3.11.11"
  }
 },
 "nbformat": 4,
 "nbformat_minor": 2
}
