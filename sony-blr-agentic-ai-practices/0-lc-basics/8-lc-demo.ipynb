{
 "cells": [
  {
   "cell_type": "markdown",
   "id": "795e840b",
   "metadata": {},
   "source": [
    "### Structured Output Parser - Python Object"
   ]
  },
  {
   "cell_type": "code",
   "execution_count": 1,
   "id": "fd63600b",
   "metadata": {},
   "outputs": [],
   "source": [
    "import os\n",
    "\n",
    "from dotenv import load_dotenv\n",
    "from langchain_openai import ChatOpenAI\n",
    "from langchain.prompts import ChatPromptTemplate\n",
    "from pydantic import BaseModel, Field\n",
    "from typing import Optional\n",
    "from langchain.chains.openai_functions import create_structured_output_chain"
   ]
  },
  {
   "cell_type": "code",
   "execution_count": 2,
   "id": "698d7bf0",
   "metadata": {},
   "outputs": [],
   "source": [
    "load_dotenv(override=True)\n",
    "\n",
    "openai_api_key = os.getenv(\"OPENAI_API_KEY\")\n",
    "\n",
    "if not openai_api_key:\n",
    "    raise ValueError(\"OPENAI_API_KEY environment variable is not set.\")\n",
    "\n",
    "temperature = 0.7\n",
    "max_tokens = 1500\n",
    "model_name = \"gpt-4o\"\n",
    "\n",
    "llm = ChatOpenAI(\n",
    "    model=model_name,\n",
    "    temperature=temperature,\n",
    "    max_tokens=max_tokens,\n",
    "    openai_api_key=openai_api_key\n",
    ")"
   ]
  },
  {
   "cell_type": "code",
   "execution_count": 3,
   "id": "4b8d0485",
   "metadata": {},
   "outputs": [],
   "source": [
    "class Person(BaseModel):\n",
    "    name: str = Field(..., description=\"The name of the person\")\n",
    "    age: Optional[int] = Field(None, description=\"The age of the person\")\n",
    "    occupation: Optional[str] = Field(None, description=\"The occupation of the person\")\n",
    "    years_of_experience: Optional[int] = Field(None, description=\"Years of experience in their field\")\n",
    "    skills: Optional[str] = Field(None, description=\"Skills of the person\")"
   ]
  },
  {
   "cell_type": "code",
   "execution_count": 4,
   "id": "f6d7d15d",
   "metadata": {},
   "outputs": [
    {
     "name": "stderr",
     "output_type": "stream",
     "text": [
      "C:\\Users\\jdram\\AppData\\Local\\Temp\\ipykernel_18472\\3978735300.py:9: LangChainDeprecationWarning: The function `create_structured_output_chain` was deprecated in LangChain 0.1.1 and will be removed in 1.0. Use :meth:`~ChatOpenAI.with_structured_output` instead.\n",
      "  chain = create_structured_output_chain(\n"
     ]
    }
   ],
   "source": [
    "prompt = ChatPromptTemplate.from_messages(\n",
    "    [\n",
    "        (\"system\", \"You are a world class algorithm for extracting structured data from text.\"),\n",
    "        (\"human\",\n",
    "         \"User the given format to extract information from the following input: {input}\"),\n",
    "        (\"human\", \"Tip: Make sure to answer in the correct format.\")\n",
    "    ])\n",
    "\n",
    "chain = create_structured_output_chain(\n",
    "    llm=llm,\n",
    "    output_schema=Person,\n",
    "    prompt=prompt\n",
    ")\n"
   ]
  },
  {
   "cell_type": "code",
   "execution_count": 5,
   "id": "eea1d93d",
   "metadata": {},
   "outputs": [],
   "source": [
    "request = \"\"\"\n",
    "    Ramkumar is 50 Years Old, and he works as a Software Engineer at Google.\n",
    "    He has 20 years of experience in the field and is skilled in Python, Java, and C++.\n",
    "\"\"\"\n",
    "\n",
    "response = chain.invoke({\"input\": request})\n",
    "\n"
   ]
  },
  {
   "cell_type": "code",
   "execution_count": 6,
   "id": "5ba3988a",
   "metadata": {},
   "outputs": [
    {
     "name": "stdout",
     "output_type": "stream",
     "text": [
      "Response: {'input': '\\n    Ramkumar is 50 Years Old, and he works as a Software Engineer at Google.\\n    He has 20 years of experience in the field and is skilled in Python, Java, and C++.\\n', 'function': Person(name='Ramkumar', age=50, occupation='Software Engineer', years_of_experience=20, skills='Python, Java, and C++')}\n",
      "Extracted Data:\n",
      "Name: Ramkumar\n",
      "Age: 50\n",
      "Occupation: Software Engineer\n",
      "Years of Experience: 20\n",
      "Skills: Python, Java, and C++\n"
     ]
    }
   ],
   "source": [
    "print(\"Response:\", response)\n",
    "\n",
    "person = response[\"function\"]\n",
    "\n",
    "if isinstance(person, Person):\n",
    "    print(\"Extracted Data:\")\n",
    "    print(f\"Name: {person.name}\")\n",
    "    print(f\"Age: {person.age}\")\n",
    "    print(f\"Occupation: {person.occupation}\")\n",
    "    print(f\"Years of Experience: {person.years_of_experience}\")\n",
    "    print(f\"Skills: {person.skills}\")"
   ]
  },
  {
   "cell_type": "code",
   "execution_count": 7,
   "id": "ed1d5907",
   "metadata": {},
   "outputs": [],
   "source": [
    "from typing import Sequence\n",
    "\n",
    "class People(BaseModel):\n",
    "    people: Sequence[Person] = Field(..., description=\"List of people extracted from the text\")\n",
    "\n",
    "chain = create_structured_output_chain(\n",
    "    llm=llm,\n",
    "    output_schema=People,\n",
    "    prompt=prompt\n",
    ")"
   ]
  },
  {
   "cell_type": "code",
   "execution_count": 8,
   "id": "2d290eb4",
   "metadata": {},
   "outputs": [],
   "source": [
    "request = \"\"\"\n",
    "    Ramkumar is 50 Years Old, and he works as a Software Engineer at Google.\n",
    "    He has 20 years of experience in the field and is skilled in Python, Java, and C++.\n",
    "    \n",
    "    Lakshmi is 41 Years Old, and he works as a Software Engineer at Microsoft.\n",
    "    He has 20 years of experience in the field and is skilled in Python, Java, and C++.\n",
    "    \n",
    "    Both of them are skilled LangChain and OpenAI.\n",
    "\"\"\"\n",
    "\n",
    "response = chain.invoke({\"input\": request})"
   ]
  },
  {
   "cell_type": "code",
   "execution_count": 9,
   "id": "8d7ac4c2",
   "metadata": {},
   "outputs": [
    {
     "name": "stdout",
     "output_type": "stream",
     "text": [
      "{'input': '\\n    Ramkumar is 50 Years Old, and he works as a Software Engineer at Google.\\n    He has 20 years of experience in the field and is skilled in Python, Java, and C++.\\n\\n    Lakshmi is 41 Years Old, and he works as a Software Engineer at Microsoft.\\n    He has 20 years of experience in the field and is skilled in Python, Java, and C++.\\n\\n    Both of them are skilled LangChain and OpenAI.\\n', 'function': People(people=[Person(name='Ramkumar', age=50, occupation='Software Engineer', years_of_experience=20, skills='Python, Java, C++, LangChain, OpenAI'), Person(name='Lakshmi', age=41, occupation='Software Engineer', years_of_experience=20, skills='Python, Java, C++, LangChain, OpenAI')])}\n"
     ]
    }
   ],
   "source": [
    "print(response)"
   ]
  },
  {
   "cell_type": "code",
   "execution_count": 10,
   "id": "96e1ccd6",
   "metadata": {},
   "outputs": [
    {
     "name": "stdout",
     "output_type": "stream",
     "text": [
      "Extracted Data:\n",
      "Name: Ramkumar\n",
      "Age: 50\n",
      "Occupation: Software Engineer\n",
      "Years of Experience: 20\n",
      "Skills: Python, Java, C++, LangChain, OpenAI\n",
      "--------------------\n",
      "Name: Lakshmi\n",
      "Age: 41\n",
      "Occupation: Software Engineer\n",
      "Years of Experience: 20\n",
      "Skills: Python, Java, C++, LangChain, OpenAI\n",
      "--------------------\n"
     ]
    }
   ],
   "source": [
    "people = response[\"function\"]\n",
    "\n",
    "if isinstance(people, People):\n",
    "    print(\"Extracted Data:\")\n",
    "\n",
    "    for person in people.people:\n",
    "        print(f\"Name: {person.name}\")\n",
    "        print(f\"Age: {person.age}\")\n",
    "        print(f\"Occupation: {person.occupation}\")\n",
    "        print(f\"Years of Experience: {person.years_of_experience}\")\n",
    "        print(f\"Skills: {person.skills}\")\n",
    "        print(\"-\" * 20)\n",
    "        "
   ]
  }
 ],
 "metadata": {
  "kernelspec": {
   "display_name": "demonstrations",
   "language": "python",
   "name": "python3"
  },
  "language_info": {
   "codemirror_mode": {
    "name": "ipython",
    "version": 3
   },
   "file_extension": ".py",
   "mimetype": "text/x-python",
   "name": "python",
   "nbconvert_exporter": "python",
   "pygments_lexer": "ipython3",
   "version": "3.11.11"
  }
 },
 "nbformat": 4,
 "nbformat_minor": 5
}
