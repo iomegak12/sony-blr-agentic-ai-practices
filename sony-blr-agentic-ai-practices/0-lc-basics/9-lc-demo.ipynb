{
 "cells": [
  {
   "cell_type": "markdown",
   "id": "d15cdecd",
   "metadata": {},
   "source": [
    "### LangChain - Agents with Tools (Minimal)"
   ]
  },
  {
   "cell_type": "code",
   "execution_count": 1,
   "id": "1161012a",
   "metadata": {},
   "outputs": [],
   "source": [
    "import os\n",
    "\n",
    "from dotenv import load_dotenv\n",
    "from langchain_openai import ChatOpenAI\n",
    "from langchain_core.tools import tool\n",
    "from langchain import hub\n",
    "from langchain.agents import AgentExecutor, create_tool_calling_agent\n"
   ]
  },
  {
   "cell_type": "code",
   "execution_count": 2,
   "id": "c3e1d5d6",
   "metadata": {},
   "outputs": [],
   "source": [
    "load_dotenv(override=True)\n",
    "\n",
    "openai_api_key = os.getenv(\"OPENAI_API_KEY\")\n",
    "\n",
    "if not openai_api_key:\n",
    "    raise ValueError(\"OPENAI_API_KEY environment variable is not set.\")\n",
    "\n",
    "temperature = 0.7\n",
    "max_tokens = 1500\n",
    "model_name = \"gpt-4o\"\n",
    "\n",
    "llm = ChatOpenAI(\n",
    "    model=model_name,\n",
    "    temperature=temperature,\n",
    "    max_tokens=max_tokens,\n",
    "    openai_api_key=openai_api_key\n",
    ")"
   ]
  },
  {
   "cell_type": "code",
   "execution_count": 3,
   "id": "cbc40065",
   "metadata": {},
   "outputs": [
    {
     "name": "stderr",
     "output_type": "stream",
     "text": [
      "c:\\000 - SONY Agentic AI\\demonstrations\\.venv\\Lib\\site-packages\\langsmith\\client.py:272: LangSmithMissingAPIKeyWarning: API key must be provided when using hosted LangSmith API\n",
      "  warnings.warn(\n"
     ]
    }
   ],
   "source": [
    "@tool\n",
    "def multiply(first_int: int, second_int: int) -> int:\n",
    "    \"\"\"Multiplies two integers.\"\"\"\n",
    "    return first_int * second_int\n",
    "\n",
    "@tool\n",
    "def add(first_int: int, second_int: int) -> int:\n",
    "    \"\"\"Adds two integers.\"\"\"\n",
    "    return first_int + second_int\n",
    "\n",
    "@tool\n",
    "def exponentize(base: int, exponent: int) -> int:\n",
    "    \"\"\"Raises base to the power of exponent.\"\"\"\n",
    "    return base ** exponent\n",
    "\n",
    "@tool\n",
    "def get_weather(city: str) -> str:\n",
    "    \"\"\"Fetches the current weather for a given city.\"\"\"\n",
    "    # This is a placeholder function. In a real application, you would implement\n",
    "    # an API call to a weather service.\n",
    "\n",
    "    weather_data = {\n",
    "        \"New York\": \"Sunny, 25°C\",\n",
    "        \"Los Angeles\": \"Cloudy, 22°C\",\n",
    "        \"Chicago\": \"Rainy, 18°C\",\n",
    "        \"Houston\": \"Sunny, 30°C\",\n",
    "        \"Phoenix\": \"Hot, 35°C\"\n",
    "    }\n",
    "    \n",
    "    return weather_data.get(city, \"Weather data not available for this city.\")  \n",
    "\n",
    "\n",
    "tools = [multiply, add, exponentize, get_weather]\n",
    "prompt = hub.pull(\"hwchase17/openai-tools-agent\")"
   ]
  },
  {
   "cell_type": "code",
   "execution_count": 4,
   "id": "0f6224fd",
   "metadata": {},
   "outputs": [],
   "source": [
    "agent = create_tool_calling_agent(\n",
    "    llm=llm,\n",
    "    tools=tools,\n",
    "    prompt=prompt\n",
    ")\n",
    "agent_executor = AgentExecutor(\n",
    "    agent=agent,\n",
    "    tools=tools,\n",
    "    verbose=True\n",
    ")"
   ]
  },
  {
   "cell_type": "code",
   "execution_count": 5,
   "id": "66a5bd6a",
   "metadata": {},
   "outputs": [
    {
     "name": "stdout",
     "output_type": "stream",
     "text": [
      "\n",
      "\n",
      "\u001b[1m> Entering new AgentExecutor chain...\u001b[0m\n",
      "\u001b[32;1m\u001b[1;3m\n",
      "Invoking: `exponentize` with `{'base': 2, 'exponent': 3}`\n",
      "\n",
      "\n",
      "\u001b[0m\u001b[38;5;200m\u001b[1;3m8\u001b[0m\u001b[32;1m\u001b[1;3m\n",
      "Invoking: `get_weather` with `{'city': 'New York'}`\n",
      "\n",
      "\n",
      "\u001b[0m\u001b[36;1m\u001b[1;3mSunny, 25°C\u001b[0m\u001b[32;1m\u001b[1;3m\n",
      "Invoking: `multiply` with `{'first_int': 8, 'second_int': 4}`\n",
      "\n",
      "\n",
      "\u001b[0m\u001b[36;1m\u001b[1;3m32\u001b[0m\u001b[32;1m\u001b[1;3m\n",
      "Invoking: `add` with `{'first_int': 32, 'second_int': 5}`\n",
      "\n",
      "\n",
      "\u001b[0m\u001b[33;1m\u001b[1;3m37\u001b[0m\u001b[32;1m\u001b[1;3mThe result of \\(2\\) raised to the power of \\(3\\), then multiplied by \\(4\\), and finally added to \\(5\\) is \\(37\\).\n",
      "\n",
      "As for the weather in New York, it is currently sunny with a temperature of 25°C.\u001b[0m\n",
      "\n",
      "\u001b[1m> Finished chain.\u001b[0m\n",
      "{'input': '\\n        What is 2 raised to the power of 3, then multiplied by 4, and finally added to 5?\\n        And also, what is the weather in New York?\\n        ', 'output': 'The result of \\\\(2\\\\) raised to the power of \\\\(3\\\\), then multiplied by \\\\(4\\\\), and finally added to \\\\(5\\\\) is \\\\(37\\\\).\\n\\nAs for the weather in New York, it is currently sunny with a temperature of 25°C.'}\n"
     ]
    }
   ],
   "source": [
    "response = agent_executor.invoke({\n",
    "    \"input\": \n",
    "        \"\"\"\n",
    "        What is 2 raised to the power of 3, then multiplied by 4, and finally added to 5?\n",
    "        And also, what is the weather in New York?\n",
    "        \"\"\"\n",
    "})\n",
    "\n",
    "print(response)"
   ]
  }
 ],
 "metadata": {
  "kernelspec": {
   "display_name": "demonstrations",
   "language": "python",
   "name": "python3"
  },
  "language_info": {
   "codemirror_mode": {
    "name": "ipython",
    "version": 3
   },
   "file_extension": ".py",
   "mimetype": "text/x-python",
   "name": "python",
   "nbconvert_exporter": "python",
   "pygments_lexer": "ipython3",
   "version": "3.11.11"
  }
 },
 "nbformat": 4,
 "nbformat_minor": 5
}
