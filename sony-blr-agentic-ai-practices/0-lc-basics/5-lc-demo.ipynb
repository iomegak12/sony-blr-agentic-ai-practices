{
 "cells": [
  {
   "cell_type": "markdown",
   "id": "08922950",
   "metadata": {},
   "source": [
    "### LangChain Basics - Summarization"
   ]
  },
  {
   "cell_type": "code",
   "execution_count": 7,
   "id": "db7848ba",
   "metadata": {},
   "outputs": [],
   "source": [
    "import os\n",
    "\n",
    "from dotenv import load_dotenv\n",
    "from langchain_openai import ChatOpenAI\n",
    "from langchain_core.prompts import PromptTemplate\n",
    "from langchain.chains import LLMChain, SequentialChain"
   ]
  },
  {
   "cell_type": "code",
   "execution_count": 8,
   "id": "8b1b51b3",
   "metadata": {},
   "outputs": [],
   "source": [
    "load_dotenv()\n",
    "\n",
    "openai_api_key = os.getenv(\"OPENAI_API_KEY\")\n",
    "model_name=\"gpt-4o\"\n",
    "\n",
    "llm = ChatOpenAI(\n",
    "    model=model_name,\n",
    "    temperature=0.0,\n",
    "    max_tokens=1000,\n",
    "    openai_api_key=openai_api_key\n",
    ")"
   ]
  },
  {
   "cell_type": "code",
   "execution_count": 9,
   "id": "bf07043a",
   "metadata": {},
   "outputs": [],
   "source": [
    "template = \"\"\"\n",
    "%INSTRUCTIONS:\n",
    "\n",
    "You are a helpful assistant who understands the context of a conversation and can provide summarized \n",
    "relevant information based on the user's input.\n",
    "\n",
    "Explain me as if i'm 5 Years Old kid.\n",
    "\n",
    "The summary should be concise, clear, and directly related to the user's request, make it as simple as possible.\n",
    "\n",
    "The response should not cross more than 2 sentences.\n",
    "\n",
    "%TEXT:\n",
    "\n",
    "{text}\n",
    "\"\"\"\n",
    "\n",
    "prompt = PromptTemplate(\n",
    "    input_variables=[\"text\"],\n",
    "    template=template\n",
    ")"
   ]
  },
  {
   "cell_type": "code",
   "execution_count": 10,
   "id": "cb5fc1e2",
   "metadata": {},
   "outputs": [],
   "source": [
    "confusing_text = \"\"\"\n",
    "In the examples of complex sentences below, the dependent clause comes first. \n",
    "Notice that the dependent clause begins with a subordinating conjunction (words like since, because, while) \n",
    "and that the clauses are separated by a comma:\n",
    "Because he was late again, he would be docked a day’s pay.\n",
    "While I am a passionate basketball fan, I prefer football.\n",
    "Although she was considered smart, she failed all her exams.\n",
    "Whenever it rains, I like to wear my blue coat.\n",
    "\"\"\""
   ]
  },
  {
   "cell_type": "code",
   "execution_count": 11,
   "id": "ebedcdef",
   "metadata": {},
   "outputs": [],
   "source": [
    "prompt_value = prompt.format(text=confusing_text)"
   ]
  },
  {
   "cell_type": "code",
   "execution_count": 12,
   "id": "2cb2009a",
   "metadata": {},
   "outputs": [
    {
     "name": "stdout",
     "output_type": "stream",
     "text": [
      "Response:\n",
      "A complex sentence is like a big sentence with two parts. The first part starts with special words like \"because\" or \"while,\" and it tells us why or when something happens, and then there's a comma before the second part.\n"
     ]
    }
   ],
   "source": [
    "response = llm.invoke(prompt_value)\n",
    "\n",
    "print(\"Response:\")\n",
    "print(response.content)\n"
   ]
  }
 ],
 "metadata": {
  "kernelspec": {
   "display_name": "demonstrations",
   "language": "python",
   "name": "python3"
  },
  "language_info": {
   "codemirror_mode": {
    "name": "ipython",
    "version": 3
   },
   "file_extension": ".py",
   "mimetype": "text/x-python",
   "name": "python",
   "nbconvert_exporter": "python",
   "pygments_lexer": "ipython3",
   "version": "3.11.11"
  }
 },
 "nbformat": 4,
 "nbformat_minor": 5
}
