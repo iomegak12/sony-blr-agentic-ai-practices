{
 "cells": [
  {
   "cell_type": "markdown",
   "id": "f7c469e8",
   "metadata": {},
   "source": [
    "### LangChain Basics - Complex / Multiple Chains"
   ]
  },
  {
   "cell_type": "code",
   "execution_count": 1,
   "id": "44aad369",
   "metadata": {},
   "outputs": [],
   "source": [
    "import os\n",
    "\n",
    "from dotenv import load_dotenv\n",
    "from langchain_openai import ChatOpenAI\n",
    "from langchain_core.prompts import PromptTemplate\n",
    "from langchain.chains import LLMChain, SequentialChain"
   ]
  },
  {
   "cell_type": "code",
   "execution_count": 2,
   "id": "2cf73d41",
   "metadata": {},
   "outputs": [],
   "source": [
    "load_dotenv()\n",
    "\n",
    "openai_api_key = os.getenv(\"OPENAI_API_KEY\")\n",
    "model_name=\"gpt-3.5-turbo-0125\""
   ]
  },
  {
   "cell_type": "code",
   "execution_count": 3,
   "id": "09ddfffd",
   "metadata": {},
   "outputs": [],
   "source": [
    "llm = ChatOpenAI(\n",
    "    model=model_name,\n",
    "    temperature=0.0,\n",
    "    max_tokens=1000,\n",
    "    openai_api_key=openai_api_key\n",
    ")"
   ]
  },
  {
   "cell_type": "code",
   "execution_count": 4,
   "id": "5727ebc2",
   "metadata": {},
   "outputs": [],
   "source": [
    "template1 = \"\"\"\n",
    "    You're a helpful assistant, who has good and proficient english writing skills.\n",
    "    Write a Blog Outline for the following topic:\n",
    "    Topic: {topic}\n",
    "\"\"\"\n",
    "\n",
    "template2 = \"\"\"\n",
    "    You're a helpful assistant, who has good and proficient english writing skills.\n",
    "    Write a Blog Post based on the following outline:\n",
    "    Outline: {outline}\n",
    "\"\"\"\n",
    "\n",
    "template3 = \"\"\"\n",
    "    You're a helpful assistant, who has good and proficient language skills including Translating.\n",
    "    \n",
    "    Translate the following text to Telegu:\n",
    "    {outline}\n",
    "\"\"\"\n",
    "\n",
    "prompt1 = PromptTemplate(\n",
    "    input_variables=[\"topic\"],\n",
    "    template=template1\n",
    ")\n",
    "\n",
    "prompt2 = PromptTemplate(\n",
    "    input_variables=[\"outline\"],\n",
    "    template=template2\n",
    ")\n",
    "\n",
    "prompt3 = PromptTemplate(\n",
    "    input_variables=[\"blog_post\"],\n",
    "    template=template3\n",
    ")"
   ]
  },
  {
   "cell_type": "code",
   "execution_count": 5,
   "id": "24801c70",
   "metadata": {},
   "outputs": [
    {
     "name": "stderr",
     "output_type": "stream",
     "text": [
      "C:\\Users\\jdram\\AppData\\Local\\Temp\\ipykernel_17340\\2992389622.py:1: LangChainDeprecationWarning: The class `LLMChain` was deprecated in LangChain 0.1.17 and will be removed in 1.0. Use :meth:`~RunnableSequence, e.g., `prompt | llm`` instead.\n",
      "  chain1 = LLMChain(\n"
     ]
    }
   ],
   "source": [
    "chain1 = LLMChain(\n",
    "    llm=llm,\n",
    "    prompt=prompt1,\n",
    "    output_key=\"outline\"\n",
    ")\n",
    "\n",
    "chain2 = LLMChain(\n",
    "    llm=llm,\n",
    "    prompt=prompt2,\n",
    "    output_key=\"blog_post\"\n",
    ")\n",
    "\n",
    "chain3 = LLMChain(\n",
    "    llm=llm,\n",
    "    prompt=prompt3,\n",
    "    output_key=\"translated_text\"\n",
    ")\n",
    "\n",
    "sequential_chain = SequentialChain(\n",
    "    chains=[chain1, chain2, chain3],\n",
    "    input_variables=[\"topic\"],\n",
    "    output_variables=[\"outline\", \"blog_post\", \"translated_text\"],\n",
    "    verbose=True\n",
    ")"
   ]
  },
  {
   "cell_type": "code",
   "execution_count": 6,
   "id": "90a8f75f",
   "metadata": {},
   "outputs": [
    {
     "name": "stdout",
     "output_type": "stream",
     "text": [
      "\n",
      "\n",
      "\u001b[1m> Entering new SequentialChain chain...\u001b[0m\n",
      "\n",
      "\u001b[1m> Finished chain.\u001b[0m\n"
     ]
    }
   ],
   "source": [
    "response = sequential_chain.invoke({\n",
    "    \"topic\": \"The Future of Artificial Intelligence\"\n",
    "})"
   ]
  },
  {
   "cell_type": "code",
   "execution_count": 7,
   "id": "5d987f2e",
   "metadata": {},
   "outputs": [
    {
     "name": "stdout",
     "output_type": "stream",
     "text": [
      "Outline:\n",
      "I. Introduction\n",
      "    A. Definition of Artificial Intelligence (AI)\n",
      "    B. Importance of AI in today's society\n",
      "    C. Overview of the rapid advancements in AI technology\n",
      "\n",
      "II. Current Applications of AI\n",
      "    A. AI in healthcare\n",
      "    B. AI in finance\n",
      "    C. AI in transportation\n",
      "    D. AI in customer service\n",
      "\n",
      "III. Challenges and Ethical Considerations\n",
      "    A. Job displacement due to automation\n",
      "    B. Bias in AI algorithms\n",
      "    C. Privacy concerns\n",
      "    D. Potential misuse of AI technology\n",
      "\n",
      "IV. Future Trends in AI\n",
      "    A. Continued advancements in machine learning and deep learning\n",
      "    B. Integration of AI with other emerging technologies (e.g. Internet of Things, blockchain)\n",
      "    C. Expansion of AI into new industries and sectors\n",
      "    D. Ethical guidelines and regulations for AI development and deployment\n",
      "\n",
      "V. Impact of AI on Society\n",
      "    A. Positive impacts on productivity and efficiency\n",
      "    B. Potential for economic growth and innovation\n",
      "    C. Social implications of widespread AI adoption\n",
      "    D. Strategies for ensuring equitable access to AI technology\n",
      "\n",
      "VI. Conclusion\n",
      "    A. Recap of key points discussed\n",
      "    B. Reflection on the potential benefits and challenges of AI\n",
      "    C. Call to action for responsible AI development and deployment.\n"
     ]
    }
   ],
   "source": [
    "print(\"Outline:\")\n",
    "print(response[\"outline\"])"
   ]
  },
  {
   "cell_type": "code",
   "execution_count": 8,
   "id": "1b91e504",
   "metadata": {},
   "outputs": [
    {
     "name": "stdout",
     "output_type": "stream",
     "text": [
      "\n",
      "Blog Post:\n",
      "Artificial Intelligence (AI) has become an integral part of our daily lives, revolutionizing the way we work, communicate, and interact with the world around us. In this blog post, we will explore the definition of AI, its importance in today's society, the rapid advancements in AI technology, current applications of AI, challenges and ethical considerations, future trends in AI, the impact of AI on society, and the need for responsible AI development and deployment.\n",
      "\n",
      "AI can be defined as the simulation of human intelligence processes by machines, including learning, reasoning, and self-correction. Its importance in today's society cannot be overstated, as it has the potential to transform industries, improve efficiency, and enhance decision-making processes. The rapid advancements in AI technology have led to breakthroughs in machine learning, natural language processing, and computer vision, enabling machines to perform tasks that were once thought to be exclusive to humans.\n",
      "\n",
      "Current applications of AI span across various industries, including healthcare, finance, transportation, and customer service. In healthcare, AI is being used to analyze medical images, predict patient outcomes, and personalize treatment plans. In finance, AI algorithms are used for fraud detection, risk assessment, and algorithmic trading. In transportation, AI is powering autonomous vehicles, optimizing traffic flow, and improving logistics. In customer service, AI chatbots are providing instant support and personalized recommendations to customers.\n",
      "\n",
      "However, along with the benefits of AI come challenges and ethical considerations. Job displacement due to automation is a major concern, as AI technologies continue to replace human workers in various industries. Bias in AI algorithms can lead to discriminatory outcomes, reinforcing existing inequalities. Privacy concerns arise from the vast amounts of data collected and analyzed by AI systems, raising questions about data security and user consent. The potential misuse of AI technology, such as deepfake videos and autonomous weapons, poses serious ethical dilemmas that must be addressed.\n",
      "\n",
      "Future trends in AI point towards continued advancements in machine learning and deep learning, as well as the integration of AI with other emerging technologies like the Internet of Things and blockchain. AI is expected to expand into new industries and sectors, driving innovation and economic growth. However, ethical guidelines and regulations are needed to ensure responsible AI development and deployment, safeguarding against potential risks and ensuring equitable access to AI technology for all.\n",
      "\n",
      "The impact of AI on society is multifaceted, with positive impacts on productivity and efficiency, potential for economic growth and innovation, and social implications of widespread AI adoption. Strategies for ensuring equitable access to AI technology must be implemented to prevent widening inequalities and ensure that the benefits of AI are shared by all members of society.\n",
      "\n",
      "In conclusion, AI has the potential to revolutionize the way we live and work, but it also presents challenges that must be addressed. By reflecting on the potential benefits and challenges of AI, we can work towards responsible AI development and deployment, ensuring that AI technologies are used for the greater good of society. It is crucial for all stakeholders to come together and take action to shape the future of AI in a way that benefits everyone. Let us strive for a future where AI is used ethically and responsibly, for the betterment of humanity.\n"
     ]
    }
   ],
   "source": [
    "print(\"\\nBlog Post:\")\n",
    "print(response[\"blog_post\"])"
   ]
  },
  {
   "cell_type": "code",
   "execution_count": 9,
   "id": "a6e0e4f8",
   "metadata": {},
   "outputs": [
    {
     "name": "stdout",
     "output_type": "stream",
     "text": [
      "\n",
      "Translated Text:\n",
      "I. పరిచయం\n",
      "    A. కృత్రిమ బుద్ధి (AI) లక్షణం\n",
      "    B. ఈ రోజుకు సమాజంలో AI ముఖ్యత\n",
      "    C. AI సాంకేతిక ప్రగతులు సమీక్ష\n",
      "\n",
      "II. AI ప్రస్తుత అనువర్తనలు\n",
      "    A. ఆరోగ్య లో AI\n",
      "    B. ఆర్థికంలో AI\n",
      "    C. రహదారి లో AI\n",
      "    D. గ్రాహక సేవలో AI\n",
      "\n",
      "III. చాలెంజెస్ మరియు నైతిక పరిగణలు\n",
      "    A. ఆటోమేషన్ కారణంగా ఉద్యోగ నాశనం\n",
      "    B. AI ఆల్గోరితమ్లో ప్రజుత్తి\n",
      "    C. గోప్యత సంబంధాలు\n",
      "    D. AI సాంకేతిక వినియోగ సంభవాలు\n",
      "\n",
      "IV. AI భవిష్య ప్రవృత్తులు\n",
      "    A. యాంక్రిమెంట్స్ లో మెషిన్ లెర్నింగ్ మరియు డీప్ లెర్నింగ్\n",
      "    B. ఇంటర్నెట్ ఆఫ్ థింగ్స్, బ్లాక్చెయిన్ తో AI ల ఏకీకరణ\n",
      "    C. కొత్త శాఖలు మరియు వలన లో AI విస్తారం\n",
      "    D. AI అభివృద్ధి మరియు ప్రవృద్ధి కోసం నైతిక మార్గదర్శికలు మరియు వినియోగం\n",
      "\n",
      "V. సమాజంలో AI ప్రభావం\n",
      "    A. ఉత్పత్తి మరియు ఎఫి\n"
     ]
    }
   ],
   "source": [
    "print(\"\\nTranslated Text:\")\n",
    "print(response[\"translated_text\"])"
   ]
  }
 ],
 "metadata": {
  "kernelspec": {
   "display_name": "demonstrations",
   "language": "python",
   "name": "python3"
  },
  "language_info": {
   "codemirror_mode": {
    "name": "ipython",
    "version": 3
   },
   "file_extension": ".py",
   "mimetype": "text/x-python",
   "name": "python",
   "nbconvert_exporter": "python",
   "pygments_lexer": "ipython3",
   "version": "3.11.11"
  }
 },
 "nbformat": 4,
 "nbformat_minor": 5
}
