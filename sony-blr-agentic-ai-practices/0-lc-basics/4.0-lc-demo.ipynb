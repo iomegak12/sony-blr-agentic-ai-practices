{
 "cells": [
  {
   "cell_type": "markdown",
   "id": "eb7755d9",
   "metadata": {},
   "source": [
    "### LangChain Basics - Multi-modality Model"
   ]
  },
  {
   "cell_type": "code",
   "execution_count": 3,
   "id": "c63229ea",
   "metadata": {},
   "outputs": [],
   "source": [
    "import os\n",
    "\n",
    "from dotenv import load_dotenv\n",
    "from langchain_openai import ChatOpenAI\n",
    "from langchain_core.prompts import PromptTemplate\n",
    "from langchain.chains import LLMChain, SequentialChain"
   ]
  },
  {
   "cell_type": "code",
   "execution_count": 4,
   "id": "68a3ed42",
   "metadata": {},
   "outputs": [],
   "source": [
    "load_dotenv()\n",
    "\n",
    "openai_api_key = os.getenv(\"OPENAI_API_KEY\")\n",
    "model_name=\"gpt-4o\"\n",
    "\n",
    "llm = ChatOpenAI(\n",
    "    model=model_name,\n",
    "    temperature=0.0,\n",
    "    max_tokens=1000,\n",
    "    openai_api_key=openai_api_key\n",
    ")"
   ]
  },
  {
   "cell_type": "code",
   "execution_count": 6,
   "id": "b8f05653",
   "metadata": {},
   "outputs": [],
   "source": [
    "def encode_base64_image(image_path: str) -> str:\n",
    "    import base64\n",
    "\n",
    "    with open(image_path, \"rb\") as image_file:\n",
    "        encoded_string = base64.b64encode(image_file.read()).decode('utf-8')\n",
    "\n",
    "    return encoded_string\n",
    "\n",
    "image_path = \"../../sony-blr-agentic-ai-practices/lc-training-data/USMortgageRate.png\" \n",
    "image_base64 = encode_base64_image(image_path)"
   ]
  },
  {
   "cell_type": "code",
   "execution_count": 7,
   "id": "450bd327",
   "metadata": {},
   "outputs": [],
   "source": [
    "message = [\n",
    "    {\n",
    "        \"role\": \"system\",\n",
    "        \"content\": \"You are a helpful assistant that can analyze images and provide insights.\"\n",
    "    },\n",
    "    {\n",
    "        \"role\": \"user\",\n",
    "        \"content\": [\n",
    "            {\n",
    "                \"type\": \"text\",\n",
    "                \"text\": \"Analyze the following image and provide insights on the US mortgage rate trends.\"\n",
    "            },\n",
    "            {\n",
    "                \"type\": \"image_url\",\n",
    "                \"image_url\": {\n",
    "                    \"url\": f\"data:image/png;base64,{image_base64}\"\n",
    "                }\n",
    "            }\n",
    "        ]\n",
    "    }\n",
    "]"
   ]
  },
  {
   "cell_type": "code",
   "execution_count": 8,
   "id": "5ffa2c5b",
   "metadata": {},
   "outputs": [],
   "source": [
    "response = llm.invoke(message)"
   ]
  },
  {
   "cell_type": "code",
   "execution_count": 9,
   "id": "03a352c8",
   "metadata": {},
   "outputs": [
    {
     "name": "stdout",
     "output_type": "stream",
     "text": [
      "\n",
      "Summary of US Mortgage Rate Trends:\n",
      "The image illustrates the trends in the U.S. 30-year fixed-rate mortgage rates and existing home sales from 2014 to 2023. Here are some insights:\n",
      "\n",
      "1. **Mortgage Rate Trends**:\n",
      "   - The mortgage rates were relatively stable between 2014 and 2019, fluctuating around 4%.\n",
      "   - There was a significant drop in rates around 2020, reaching below 3%.\n",
      "   - Post-2020, rates began to rise sharply, reaching their highest level in over 20 years by 2023, surpassing 7%.\n",
      "\n",
      "2. **Existing Home Sales Trends**:\n",
      "   - Home sales were relatively stable from 2014 to 2019, with some fluctuations.\n",
      "   - There was a sharp increase in sales around 2020, likely due to lower mortgage rates.\n",
      "   - Sales have declined significantly since 2021, reaching their lowest point in 2023.\n",
      "\n",
      "3. **Current Market Conditions (2023)**:\n",
      "   - High mortgage rates, rising home prices, and constrained housing inventory have led to the lowest housing affordability since 1989.\n",
      "\n",
      "4. **Correlation**:\n",
      "   - There is an inverse relationship between mortgage rates and home sales. As mortgage rates decreased, home sales increased, and vice versa.\n",
      "\n",
      "This data suggests that the current housing market is challenging for buyers due to high costs and limited availability.\n"
     ]
    }
   ],
   "source": [
    "print(\"\\nSummary of US Mortgage Rate Trends:\")\n",
    "print(response.content)"
   ]
  }
 ],
 "metadata": {
  "kernelspec": {
   "display_name": "demonstrations",
   "language": "python",
   "name": "python3"
  },
  "language_info": {
   "codemirror_mode": {
    "name": "ipython",
    "version": 3
   },
   "file_extension": ".py",
   "mimetype": "text/x-python",
   "name": "python",
   "nbconvert_exporter": "python",
   "pygments_lexer": "ipython3",
   "version": "3.11.11"
  }
 },
 "nbformat": 4,
 "nbformat_minor": 5
}
