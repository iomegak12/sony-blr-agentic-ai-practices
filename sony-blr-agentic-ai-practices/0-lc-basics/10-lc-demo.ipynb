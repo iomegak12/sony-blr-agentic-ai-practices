{
 "cells": [
  {
   "cell_type": "markdown",
   "id": "08701b89",
   "metadata": {},
   "source": [
    "### LangChain Conversational Memory with Agents"
   ]
  },
  {
   "cell_type": "code",
   "execution_count": 1,
   "id": "1b59eee1",
   "metadata": {},
   "outputs": [],
   "source": [
    "import os\n",
    "\n",
    "from dotenv import load_dotenv\n",
    "from langchain_openai import ChatOpenAI\n",
    "from langchain.memory import ConversationBufferMemory\n",
    "from langchain.agents import load_tools, initialize_agent"
   ]
  },
  {
   "cell_type": "code",
   "execution_count": 2,
   "id": "ad6d92cf",
   "metadata": {},
   "outputs": [],
   "source": [
    "load_dotenv(override=True)\n",
    "\n",
    "openai_api_key = os.getenv(\"OPENAI_API_KEY\")\n",
    "\n",
    "if not openai_api_key:\n",
    "    raise ValueError(\"OPENAI_API_KEY environment variable is not set.\")\n",
    "\n",
    "temperature = 0.7\n",
    "max_tokens = 1500\n",
    "model_name = \"gpt-4o\"\n",
    "\n",
    "llm = ChatOpenAI(\n",
    "    model=model_name,\n",
    "    temperature=temperature,\n",
    "    max_tokens=max_tokens,\n",
    "    openai_api_key=openai_api_key\n",
    ")"
   ]
  },
  {
   "cell_type": "code",
   "execution_count": 3,
   "id": "1481a9e8",
   "metadata": {},
   "outputs": [
    {
     "name": "stderr",
     "output_type": "stream",
     "text": [
      "C:\\Users\\jdram\\AppData\\Local\\Temp\\ipykernel_13048\\1302357805.py:8: LangChainDeprecationWarning: Please see the migration guide at: https://python.langchain.com/docs/versions/migrating_memory/\n",
      "  memory = ConversationBufferMemory(memory_key=\"chat_history\", return_messages=True)\n",
      "C:\\Users\\jdram\\AppData\\Local\\Temp\\ipykernel_13048\\1302357805.py:9: LangChainDeprecationWarning: LangChain agents will continue to be supported, but it is recommended for new use cases to be built with LangGraph. LangGraph offers a more flexible and full-featured framework for building agents, including support for tool-calling, persistence of state, and human-in-the-loop workflows. For details, refer to the `LangGraph documentation <https://langchain-ai.github.io/langgraph/>`_ as well as guides for `Migrating from AgentExecutor <https://python.langchain.com/docs/how_to/migrate_agent/>`_ and LangGraph's `Pre-built ReAct agent <https://langchain-ai.github.io/langgraph/how-tos/create-react-agent/>`_.\n",
      "  agent = initialize_agent(\n"
     ]
    }
   ],
   "source": [
    "tools = load_tools(\n",
    "    [\n",
    "        \"llm-math\",\n",
    "    ],\n",
    "    llm=llm\n",
    ")\n",
    "\n",
    "memory = ConversationBufferMemory(memory_key=\"chat_history\", return_messages=True)\n",
    "agent = initialize_agent(\n",
    "    tools=tools,\n",
    "    llm=llm,\n",
    "    agent=\"conversational-react-description\",\n",
    "    verbose=True,\n",
    "    memory=memory\n",
    ")"
   ]
  },
  {
   "cell_type": "code",
   "execution_count": 4,
   "id": "7141b3e1",
   "metadata": {},
   "outputs": [
    {
     "name": "stderr",
     "output_type": "stream",
     "text": [
      "C:\\Users\\jdram\\AppData\\Local\\Temp\\ipykernel_13048\\1096208489.py:1: LangChainDeprecationWarning: The method `Chain.run` was deprecated in langchain 0.1.0 and will be removed in 1.0. Use :meth:`~invoke` instead.\n",
      "  output1 = agent.run(\n"
     ]
    },
    {
     "name": "stdout",
     "output_type": "stream",
     "text": [
      "\n",
      "\n",
      "\u001b[1m> Entering new AgentExecutor chain...\u001b[0m\n",
      "\u001b[32;1m\u001b[1;3m```\n",
      "Thought: Do I need to use a tool? Yes\n",
      "Action: Calculator\n",
      "Action Input: sqrt(144)\u001b[0m\n",
      "Observation: \u001b[36;1m\u001b[1;3mAnswer: 12.0\u001b[0m\n",
      "Thought:\u001b[32;1m\u001b[1;3mDo I need to use a tool? Yes\n",
      "Action: Calculator\n",
      "Action Input: 12.0 * 10\u001b[0m\n",
      "Observation: \u001b[36;1m\u001b[1;3mAnswer: 120.0\u001b[0m\n",
      "Thought:\u001b[32;1m\u001b[1;3mDo I need to use a tool? No\n",
      "AI: The square root of 144 is 12, and multiplying that by 10 gives the result of 120.\u001b[0m\n",
      "\n",
      "\u001b[1m> Finished chain.\u001b[0m\n",
      "The square root of 144 is 12, and multiplying that by 10 gives the result of 120.\n"
     ]
    }
   ],
   "source": [
    "output1 = agent.run(\n",
    "    \"What is the square root of 144? \"\n",
    "    \"Then, what is the result of multiplying that by 10?\"\n",
    ")\n",
    "\n",
    "print(output1)"
   ]
  },
  {
   "cell_type": "code",
   "execution_count": 5,
   "id": "c3d23687",
   "metadata": {},
   "outputs": [
    {
     "name": "stdout",
     "output_type": "stream",
     "text": [
      "\n",
      "\n",
      "\u001b[1m> Entering new AgentExecutor chain...\u001b[0m\n",
      "\u001b[32;1m\u001b[1;3m```\n",
      "Thought: Do I need to use a tool? Yes\n",
      "Action: Calculator\n",
      "Action Input: 120 + 5\u001b[0m\n",
      "Observation: \u001b[36;1m\u001b[1;3mAnswer: 125\u001b[0m\n",
      "Thought:\u001b[32;1m\u001b[1;3mDo I need to use a tool? Yes\n",
      "Action: Calculator\n",
      "Action Input: sqrt(125)\u001b[0m\n",
      "Observation: \u001b[36;1m\u001b[1;3mAnswer: 11.180339887498949\u001b[0m\n",
      "Thought:\u001b[32;1m\u001b[1;3mDo I need to use a tool? No\n",
      "AI: Adding 5 to the previous result of 120 gives us 125. The square root of 125 is approximately 11.18.\u001b[0m\n",
      "\n",
      "\u001b[1m> Finished chain.\u001b[0m\n",
      "Adding 5 to the previous result of 120 gives us 125. The square root of 125 is approximately 11.18.\n"
     ]
    }
   ],
   "source": [
    "output2 = agent.run(\n",
    "    \"\"\"\n",
    "    add 5 to the previous result,\n",
    "    and square root the final result.\n",
    "    \"\"\")\n",
    "\n",
    "print(output2)"
   ]
  }
 ],
 "metadata": {
  "kernelspec": {
   "display_name": "demonstrations",
   "language": "python",
   "name": "python3"
  },
  "language_info": {
   "codemirror_mode": {
    "name": "ipython",
    "version": 3
   },
   "file_extension": ".py",
   "mimetype": "text/x-python",
   "name": "python",
   "nbconvert_exporter": "python",
   "pygments_lexer": "ipython3",
   "version": "3.11.11"
  }
 },
 "nbformat": 4,
 "nbformat_minor": 5
}
