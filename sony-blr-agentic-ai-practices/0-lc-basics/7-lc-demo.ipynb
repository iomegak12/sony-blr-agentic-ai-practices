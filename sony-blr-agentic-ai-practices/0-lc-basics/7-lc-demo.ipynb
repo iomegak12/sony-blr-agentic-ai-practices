{
 "cells": [
  {
   "cell_type": "markdown",
   "id": "da844dda",
   "metadata": {},
   "source": [
    "### LangChain Output Parsers"
   ]
  },
  {
   "cell_type": "code",
   "execution_count": null,
   "id": "9ba59c6e",
   "metadata": {},
   "outputs": [],
   "source": [
    "import os\n",
    "\n",
    "from dotenv import load_dotenv\n",
    "from langchain.chains import LLMChain\n",
    "from langchain_openai import ChatOpenAI\n",
    "from langchain.prompts import ChatPromptTemplate, HumanMessagePromptTemplate, PromptTemplate\n",
    "from langchain.output_parsers import StructuredOutputParser, ResponseSchema"
   ]
  },
  {
   "cell_type": "code",
   "execution_count": null,
   "id": "f9bcc210",
   "metadata": {},
   "outputs": [],
   "source": [
    "load_dotenv(override=True)\n",
    "\n",
    "openai_api_key = os.getenv(\"OPENAI_API_KEY\")\n",
    "\n",
    "if not openai_api_key:\n",
    "    raise ValueError(\"OPENAI_API_KEY environment variable is not set.\")\n",
    "\n",
    "temperature = 0.7\n",
    "max_tokens = 1500\n",
    "model_name = \"gpt-3.5-turbo-0125\"\n",
    "\n",
    "llm = ChatOpenAI(\n",
    "    model=model_name,\n",
    "    temperature=temperature,\n",
    "    max_tokens=max_tokens,\n",
    "    openai_api_key=openai_api_key\n",
    ")"
   ]
  },
  {
   "cell_type": "code",
   "execution_count": 7,
   "id": "c9f6430d",
   "metadata": {},
   "outputs": [
    {
     "name": "stdout",
     "output_type": "stream",
     "text": [
      "Format Instructions:\n",
      "The output should be a markdown code snippet formatted in the following schema, including the leading and trailing \"```json\" and \"```\":\n",
      "\n",
      "```json\n",
      "{\n",
      "\t\"bad_string\": string  // This is poorly formatted user response\n",
      "\t\"good_string\": string  // This is well and properly formatted user response\n",
      "}\n",
      "```\n"
     ]
    }
   ],
   "source": [
    "response_schema = [\n",
    "    ResponseSchema(\n",
    "        name=\"bad_string\",\n",
    "        description=\"This is poorly formatted user response\"\n",
    "    ),\n",
    "    ResponseSchema(\n",
    "        name=\"good_string\",\n",
    "        description=\"This is well and properly formatted user response\"\n",
    "    ),\n",
    "]\n",
    "\n",
    "output_parser = StructuredOutputParser.from_response_schemas(response_schema)\n",
    "\n",
    "format_instructions = output_parser.get_format_instructions()\n",
    "\n",
    "print(\"Format Instructions:\")\n",
    "print(format_instructions)"
   ]
  },
  {
   "cell_type": "code",
   "execution_count": null,
   "id": "0e58155e",
   "metadata": {},
   "outputs": [],
   "source": [
    "template = \"\"\"\n",
    "    You shall be given a poorly formatted string from a user.\n",
    "    Reformat it and make sure all the words are spelled correctly.\n",
    "    \n",
    "    {format_instructions}\n",
    "    \n",
    "    User Input: {user_input}\n",
    "    \n",
    "    YOUR RESPONSE:\n",
    "\"\"\"\n",
    "\n",
    "prompt = PromptTemplate(\n",
    "    input_variables=[\"user_input\"],\n",
    "    template=template,\n",
    "    partial_variables={\"format_instructions\": format_instructions}\n",
    ")\n",
    "\n",
    "prompt_value = prompt.format(\n",
    "    user_input=\"\"\"\n",
    "        Welcome to Londan! I hope u hv a great time her. \n",
    "        The wether is nice and the foody is delicious. \n",
    "        Don't forgat to visit the Big Ban and the Towar of Londan. Enjoy your stey!\n",
    "    \"\"\"\n",
    ")"
   ]
  },
  {
   "cell_type": "code",
   "execution_count": null,
   "id": "8dc7b3b6",
   "metadata": {},
   "outputs": [],
   "source": [
    "llm_output = llm.invoke(\n",
    "    prompt_value,\n",
    ")\n",
    "\n",
    "print(\"LLM Output:\")\n",
    "print(llm_output)"
   ]
  },
  {
   "cell_type": "code",
   "execution_count": null,
   "id": "b863bd86",
   "metadata": {},
   "outputs": [],
   "source": [
    "result = output_parser.parse(llm_output.content)\n",
    "print(\"Parsed Result:\")\n",
    "print(result)\n",
    "print(\"Bad String:\", result[\"bad_string\"])\n",
    "print(\"Good String:\", result[\"good_string\"])"
   ]
  }
 ],
 "metadata": {
  "kernelspec": {
   "display_name": "demonstrations",
   "language": "python",
   "name": "python3"
  },
  "language_info": {
   "codemirror_mode": {
    "name": "ipython",
    "version": 3
   },
   "file_extension": ".py",
   "mimetype": "text/x-python",
   "name": "python",
   "nbconvert_exporter": "python",
   "pygments_lexer": "ipython3",
   "version": "3.11.11"
  }
 },
 "nbformat": 4,
 "nbformat_minor": 5
}
