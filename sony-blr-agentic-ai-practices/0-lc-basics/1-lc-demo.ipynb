{
 "cells": [
  {
   "cell_type": "markdown",
   "id": "19d38276",
   "metadata": {},
   "source": [
    "### Understanding LangChain Basics"
   ]
  },
  {
   "cell_type": "code",
   "execution_count": 1,
   "id": "a9eaf393",
   "metadata": {},
   "outputs": [],
   "source": [
    "import os\n",
    "\n",
    "from dotenv import load_dotenv\n",
    "from langchain_openai import ChatOpenAI\n",
    "from langchain_core.prompts import PromptTemplate"
   ]
  },
  {
   "cell_type": "code",
   "execution_count": 2,
   "id": "feb5d221",
   "metadata": {},
   "outputs": [],
   "source": [
    "load_dotenv()\n",
    "\n",
    "openai_api_key = os.getenv(\"OPENAI_API_KEY\")\n",
    "model_name=os.getenv(\"MODEL_NAME\", \"gpt-3.5-turbo\")"
   ]
  },
  {
   "cell_type": "code",
   "execution_count": 3,
   "id": "f8af34fb",
   "metadata": {},
   "outputs": [],
   "source": [
    "llm = ChatOpenAI(\n",
    "    model=model_name,\n",
    "    temperature=0.1,\n",
    "    max_tokens=1000,\n",
    "    openai_api_key=openai_api_key\n",
    ")"
   ]
  },
  {
   "cell_type": "code",
   "execution_count": 4,
   "id": "8af3e6fb",
   "metadata": {},
   "outputs": [],
   "source": [
    "prompt_template = PromptTemplate(\n",
    "    input_variables=[\"input\"],\n",
    "    template=\"\"\"\n",
    "        You are a helpful assistant. \n",
    "        Your task is to generate a tweet that summarizes two topics.\n",
    "        \n",
    "        I want you to generate a tweet that summarizes the following input:\n",
    "        \n",
    "        {topic1}\n",
    "        \n",
    "        and \n",
    "        \n",
    "        {topic2}\n",
    "    \"\"\"\n",
    ")"
   ]
  },
  {
   "cell_type": "code",
   "execution_count": 5,
   "id": "2aa569c8",
   "metadata": {},
   "outputs": [
    {
     "name": "stdout",
     "output_type": "stream",
     "text": [
      "\"Exciting news from Sony with the new Bravia XR technology, setting a new standard for TV viewing experience! 📺 #Sony #BraviaXR\"\n"
     ]
    }
   ],
   "source": [
    "prompt = prompt_template.format(\n",
    "    topic1=\"Sony\",\n",
    "    topic2=\"Bravia XR\"\n",
    ")\n",
    "\n",
    "response = llm.invoke(prompt)\n",
    "\n",
    "print(response.content)"
   ]
  }
 ],
 "metadata": {
  "kernelspec": {
   "display_name": "demonstrations",
   "language": "python",
   "name": "python3"
  },
  "language_info": {
   "codemirror_mode": {
    "name": "ipython",
    "version": 3
   },
   "file_extension": ".py",
   "mimetype": "text/x-python",
   "name": "python",
   "nbconvert_exporter": "python",
   "pygments_lexer": "ipython3",
   "version": "3.11.11"
  }
 },
 "nbformat": 4,
 "nbformat_minor": 5
}
