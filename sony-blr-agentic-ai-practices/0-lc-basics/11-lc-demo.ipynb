{
 "cells": [
  {
   "cell_type": "markdown",
   "id": "362bf5b2",
   "metadata": {},
   "source": [
    "### LangChain - QA - Simple"
   ]
  },
  {
   "cell_type": "code",
   "execution_count": 1,
   "id": "aef99a1a",
   "metadata": {},
   "outputs": [],
   "source": [
    "import os\n",
    "\n",
    "from dotenv import load_dotenv\n",
    "from langchain_openai import ChatOpenAI"
   ]
  },
  {
   "cell_type": "code",
   "execution_count": 2,
   "id": "6974ea36",
   "metadata": {},
   "outputs": [],
   "source": [
    "load_dotenv(override=True)\n",
    "\n",
    "openai_api_key = os.getenv(\"OPENAI_API_KEY\")\n",
    "\n",
    "if not openai_api_key:\n",
    "    raise ValueError(\"OPENAI_API_KEY environment variable is not set.\")\n",
    "\n",
    "temperature = 0.7\n",
    "max_tokens = 1500\n",
    "model_name = \"gpt-4o\"\n",
    "\n",
    "llm = ChatOpenAI(\n",
    "    model=model_name,\n",
    "    temperature=temperature,\n",
    "    max_tokens=max_tokens,\n",
    "    openai_api_key=openai_api_key\n",
    ")"
   ]
  },
  {
   "cell_type": "code",
   "execution_count": 3,
   "id": "7f9880f4",
   "metadata": {},
   "outputs": [
    {
     "name": "stdout",
     "output_type": "stream",
     "text": [
      "Question: Who is older, Ramkumar or Bob?\n",
      "Answer: Ramkumar is older than Bob. Ramkumar is 50 years old, while Bob is 29 years old.\n"
     ]
    }
   ],
   "source": [
    "context = \"\"\"\n",
    "    Ramkumar is 50 Years Old.\n",
    "    Bob is 29 Years Old.\n",
    "    Ramkumar is a software engineer.\n",
    "    Bob is a data scientist.\n",
    "    Ramkumar lives in Chennai.\n",
    "    Bob lives in Bangalore.\n",
    "\"\"\"\n",
    "\n",
    "question = \"Who is older, Ramkumar or Bob?\"\n",
    "prompt = context + \"\\n\\n\" + question\n",
    "\n",
    "output = llm.invoke(prompt)\n",
    "print(f\"Question: {question}\")\n",
    "print(f\"Answer: {output.content.strip()}\")"
   ]
  },
  {
   "cell_type": "code",
   "execution_count": 4,
   "id": "60d280db",
   "metadata": {},
   "outputs": [
    {
     "name": "stdout",
     "output_type": "stream",
     "text": [
      "Question: where does Ramkumar live?\n",
      "Answer: Ramkumar lives in Chennai.\n"
     ]
    }
   ],
   "source": [
    "question  = \"where does Ramkumar live?\"\n",
    "prompt = context + \"\\n\\n\" + question\n",
    "output = llm.invoke(prompt)\n",
    "print(f\"Question: {question}\")\n",
    "print(f\"Answer: {output.content.strip()}\")"
   ]
  },
  {
   "cell_type": "code",
   "execution_count": 5,
   "id": "58826e7f",
   "metadata": {},
   "outputs": [
    {
     "name": "stdout",
     "output_type": "stream",
     "text": [
      "Question: What is Bob's profession?\n",
      "Answer: Bob's profession is a data scientist.\n"
     ]
    }
   ],
   "source": [
    "question = \"What is Bob's profession?\"\n",
    "prompt = context + \"\\n\\n\" + question\n",
    "output = llm.invoke(prompt)\n",
    "print(f\"Question: {question}\")\n",
    "print(f\"Answer: {output.content.strip()}\")"
   ]
  }
 ],
 "metadata": {
  "kernelspec": {
   "display_name": "demonstrations",
   "language": "python",
   "name": "python3"
  },
  "language_info": {
   "codemirror_mode": {
    "name": "ipython",
    "version": 3
   },
   "file_extension": ".py",
   "mimetype": "text/x-python",
   "name": "python",
   "nbconvert_exporter": "python",
   "pygments_lexer": "ipython3",
   "version": "3.11.11"
  }
 },
 "nbformat": 4,
 "nbformat_minor": 5
}
