{
 "cells": [
  {
   "cell_type": "markdown",
   "id": "49f885d1",
   "metadata": {},
   "source": [
    "### Conversation Memory"
   ]
  },
  {
   "cell_type": "code",
   "execution_count": null,
   "id": "04d99deb",
   "metadata": {},
   "outputs": [],
   "source": [
    "import os\n",
    "\n",
    "from dotenv import load_dotenv\n",
    "from langchain.chains import LLMChain\n",
    "from langchain_openai import ChatOpenAI\n",
    "from langchain.prompts import PromptTemplate\n",
    "from langchain.memory import ConversationBufferMemory"
   ]
  },
  {
   "cell_type": "code",
   "execution_count": null,
   "id": "2f54bf2a",
   "metadata": {},
   "outputs": [],
   "source": [
    "load_dotenv(override=True)\n",
    "\n",
    "openai_api_key = os.getenv(\"OPENAI_API_KEY\")\n",
    "\n",
    "if not openai_api_key:\n",
    "    raise ValueError(\"OPENAI_API_KEY environment variable is not set.\")\n",
    "\n",
    "temperature = 0.7\n",
    "max_tokens = 1500\n",
    "model_name = \"gpt-3.5-turbo-0125\"\n",
    "\n",
    "llm = ChatOpenAI(\n",
    "    model=model_name,\n",
    "    temperature=temperature,\n",
    "    max_tokens=max_tokens,\n",
    "    openai_api_key=openai_api_key\n",
    ")"
   ]
  },
  {
   "cell_type": "code",
   "execution_count": null,
   "id": "d9069003",
   "metadata": {},
   "outputs": [],
   "source": [
    "template = \"\"\"\n",
    "    You are a chatbot that is helpful.\n",
    "    Your goal is to help the user and makes also jokes.\n",
    "    Take what the user is saying and make a joke out of it and also answer the question.\n",
    "    \n",
    "    {conversation_history}\n",
    "    \n",
    "    {additional_information}\n",
    "    \n",
    "    Human: {human_input}\n",
    "    Chatbot:\n",
    "\"\"\"\n",
    "\n",
    "prompt = PromptTemplate(\n",
    "    input_variables=[\"conversation_history\", \"human_input\", \"additional_information\"],\n",
    "    template=template\n",
    ")\n",
    "\n",
    "memory = ConversationBufferMemory(\n",
    "    memory_key=\"conversation_history\",\n",
    "    input_key=\"human_input\",\n",
    "    return_messages=True\n",
    ")\n",
    "\n",
    "chain = LLMChain(\n",
    "    llm=llm,\n",
    "    prompt=prompt,\n",
    "    memory=memory,\n",
    "    verbose=True\n",
    ")"
   ]
  },
  {
   "cell_type": "code",
   "execution_count": null,
   "id": "72654468",
   "metadata": {},
   "outputs": [],
   "source": [
    "chain.predict(\n",
    "    human_input=\"Is pear a fruit or vegetable?\",\n",
    "    additional_information=\"The user is curious about the classification of pears.\"\n",
    ")"
   ]
  },
  {
   "cell_type": "code",
   "execution_count": null,
   "id": "3df5006e",
   "metadata": {},
   "outputs": [],
   "source": [
    "chain.predict(\n",
    "    human_input=\"what was one of the fruits I first asked you about?\",\n",
    "    additional_information=\"The user is asking about a previous fruit they mentioned.\"\n",
    ")"
   ]
  },
  {
   "cell_type": "code",
   "execution_count": null,
   "id": "9ee829af",
   "metadata": {},
   "outputs": [],
   "source": [
    "chain.predict(\n",
    "    human_input=\"which party won the General Elections in India in the year 2014?\",\n",
    "    additional_information=\"The user is asking about the winner of the 2014 General Elections in India.\"\n",
    ")"
   ]
  }
 ],
 "metadata": {
  "kernelspec": {
   "display_name": "demonstrations",
   "language": "python",
   "name": "python3"
  },
  "language_info": {
   "codemirror_mode": {
    "name": "ipython",
    "version": 3
   },
   "file_extension": ".py",
   "mimetype": "text/x-python",
   "name": "python",
   "nbconvert_exporter": "python",
   "pygments_lexer": "ipython3",
   "version": "3.11.11"
  }
 },
 "nbformat": 4,
 "nbformat_minor": 5
}
