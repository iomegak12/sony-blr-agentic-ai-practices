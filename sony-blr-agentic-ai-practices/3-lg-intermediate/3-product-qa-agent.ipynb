{
 "cells": [
  {
   "cell_type": "code",
   "execution_count": 1,
   "id": "03f0f096-1d52-4d40-bcd2-6415a98adf99",
   "metadata": {},
   "outputs": [],
   "source": [
    "from langchain_openai import ChatOpenAI, OpenAIEmbeddings\n",
    "from dotenv import load_dotenv\n",
    "\n",
    "load_dotenv()\n",
    "\n",
    "model = ChatOpenAI(model=\"gpt-4o\", temperature=0.5, max_tokens=1000)\n",
    "embedding = OpenAIEmbeddings(model=\"text-embedding-3-large\")\n"
   ]
  },
  {
   "cell_type": "code",
   "execution_count": 8,
   "id": "cc54279d-156f-4c83-89fe-e571f8661eee",
   "metadata": {},
   "outputs": [
    {
     "name": "stdout",
     "output_type": "stream",
     "text": [
      "            Name  Price  ShippingDays\n",
      "0  AlphaBook Pro   1499             2\n",
      "1     GammaAir X   1399             7\n",
      "2  SpectraBook S   2499             7\n",
      "3   OmegaPro G17   2199            14\n",
      "4  NanoEdge Flex   1699             2\n"
     ]
    }
   ],
   "source": [
    "import pandas as pd\n",
    "from langchain_core.tools import tool\n",
    "\n",
    "#Load the laptop product pricing CSV into a Pandas dataframe.\n",
    "product_pricing_df = pd.read_csv(\"../../sony-blr-agentic-ai-practices/lc-training-data/ai-agents-data/Laptop pricing.csv\")\n",
    "print(product_pricing_df)\n",
    "\n",
    "@tool\n",
    "def get_laptop_price(laptop_name:str) -> int :\n",
    "    \"\"\"\n",
    "    This function returns the price of a laptop, given its name as input.\n",
    "    It performs a substring match between the input name and the laptop name.\n",
    "    If a match is found, it returns the pricxe of the laptop.\n",
    "    If there is NO match found, it returns -1\n",
    "    \"\"\"\n",
    "\n",
    "    #Filter Dataframe for matching names\n",
    "    match_records_df = product_pricing_df[\n",
    "                        product_pricing_df[\"Name\"].str.contains(\n",
    "                                                \"^\" + laptop_name, case=False)\n",
    "                        ]\n",
    "    #Check if a record was found, if not return -1\n",
    "    if len(match_records_df) == 0 :\n",
    "        return -1\n",
    "    else:\n",
    "        return match_records_df[\"Price\"].iloc[0]\n",
    "\n",
    "\n",
    "    "
   ]
  },
  {
   "cell_type": "code",
   "execution_count": 7,
   "id": "9d2c47af",
   "metadata": {},
   "outputs": [
    {
     "name": "stdout",
     "output_type": "stream",
     "text": [
      "1499\n"
     ]
    }
   ],
   "source": [
    "#Test the tool. Before running the test, comment the @tool annotation\n",
    "# print(get_laptop_price(\"alpha\"))\n",
    "# print(get_laptop_price(\"testing\"))"
   ]
  },
  {
   "cell_type": "code",
   "execution_count": 9,
   "id": "b17cd9a7-1af7-4b89-8719-03af6c6b8d49",
   "metadata": {},
   "outputs": [],
   "source": [
    "# __import__('pysqlite3')\n",
    "# import sys\n",
    "# sys.modules['sqlite3'] = sys.modules.pop('pysqlite3')\n",
    "\n",
    "from langchain.tools.retriever import create_retriever_tool\n",
    "from langchain_chroma import Chroma \n",
    "from langchain_community.document_loaders import PyPDFLoader\n",
    "from langchain_text_splitters import RecursiveCharacterTextSplitter\n",
    "\n",
    "# Load, chunk and index the contents of the product featuers document.\n",
    "loader=PyPDFLoader(\"../../sony-blr-agentic-ai-practices/lc-training-data/ai-agents-data/Laptop product descriptions.pdf\")\n",
    "docs = loader.load()\n",
    "\n",
    "text_splitter = RecursiveCharacterTextSplitter(chunk_size=1024, chunk_overlap=256)\n",
    "splits = text_splitter.split_documents(docs)\n",
    "\n",
    "#Create a vector store with Chroma\n",
    "prod_feature_store = Chroma.from_documents(\n",
    "    documents=splits, \n",
    "    embedding=embedding\n",
    ")\n",
    "\n",
    "get_product_features = create_retriever_tool(\n",
    "    prod_feature_store.as_retriever(search_kwargs={\"k\": 1}),\n",
    "    name=\"Get_Product_Features\",\n",
    "    description=\"\"\"\n",
    "    This store contains details about Laptops. It lists the available laptops\n",
    "    and their features including CPU, memory, storage, design and advantages\n",
    "    \"\"\"\n",
    ")\n",
    "\n"
   ]
  },
  {
   "cell_type": "code",
   "execution_count": 12,
   "id": "05d754a9",
   "metadata": {},
   "outputs": [
    {
     "name": "stdout",
     "output_type": "stream",
     "text": [
      "Splits :  2\n"
     ]
    }
   ],
   "source": [
    "print(\"Splits : \", len(splits))"
   ]
  },
  {
   "cell_type": "code",
   "execution_count": 11,
   "id": "866cf083",
   "metadata": {},
   "outputs": [
    {
     "name": "stdout",
     "output_type": "stream",
     "text": [
      "Fictional Laptop Descriptions\n",
      "AlphaBook Pro\n",
      "The AlphaBook Pro is a sleek ultrabook with a 12th Gen Intel i7 processor, 16GB of DDR4 RAM,\n",
      "and a fast 1TB SSD. Ideal for professionals on the go, this laptop offers an impressive blend of\n",
      "power and portability.\n",
      "GammaAir X\n",
      "GammaAir X combines an AMD Ryzen 7 processor with 32GB of DDR4 memory and a 512GB\n",
      "NVMe SSD. Its thin and light form factor makes it perfect for users who need high performance in a\n",
      "portable design.\n",
      "SpectraBook S\n",
      "Designed for power users, SpectraBook S features an Intel Core i9 processor, 64GB RAM, and a\n",
      "massive 2TB SSD. This workstation-class laptop is perfect for intensive tasks like video editing and\n",
      "3D rendering.\n",
      "OmegaPro G17\n",
      "OmegaPro G17 is a gaming powerhouse with a Ryzen 9 5900HX CPU, 32GB RAM, and a 1TB\n",
      "SSD. Designed for gamers, it features a 17-inch display with a high refresh rate and powerful\n",
      "graphics card for the best gaming experience.\n",
      "NanoEdge Flex\n"
     ]
    }
   ],
   "source": [
    "#Test the product feature store\n",
    "print(get_product_features.invoke(\"Tell me about the AlphaBook Pro\") )"
   ]
  },
  {
   "cell_type": "code",
   "execution_count": 14,
   "id": "49623ad7-619b-4f5a-893e-d3999aac6b01",
   "metadata": {},
   "outputs": [],
   "source": [
    "from langgraph.prebuilt import create_react_agent\n",
    "from langgraph.checkpoint.memory import MemorySaver\n",
    "from langchain_core.messages import AIMessage,HumanMessage,SystemMessage\n",
    "\n",
    "#Create a System prompt to provide a persona to the chatbot\n",
    "system_prompt = SystemMessage(\"\"\"\n",
    "    You are professional chatbot that answers questions about laptops sold by your company.\n",
    "    To answer questions about laptops, you will ONLY use the available tools and NOT your own memory.\n",
    "    You will handle small talk and greetings by producing professional responses.\n",
    "    \"\"\"\n",
    ")\n",
    "\n",
    "#Create a list of tools available\n",
    "tools = [get_laptop_price, get_product_features]\n",
    "\n",
    "#Create memory across questions in a conversation (conversation memory)\n",
    "checkpointer=MemorySaver()\n",
    "\n",
    "#Create a Product QnA Agent. This is actual a graph in langGraph\n",
    "product_QnA_agent=create_react_agent(\n",
    "                                model=model, #LLM to use\n",
    "                                tools=tools, #List of tools to use\n",
    "                                prompt=system_prompt, #The system prompt\n",
    "                                debug=False, #Debugging turned on if needed\n",
    "                                checkpointer=checkpointer #For conversation memory\n",
    ")\n"
   ]
  },
  {
   "cell_type": "code",
   "execution_count": 15,
   "id": "351e5a12-0733-45f5-980c-01ee29914f39",
   "metadata": {},
   "outputs": [
    {
     "name": "stdout",
     "output_type": "stream",
     "text": [
      "================================\u001b[1m Human Message \u001b[0m=================================\n",
      "\n",
      "What are the features and pricing for GammaAir?\n",
      "==================================\u001b[1m Ai Message \u001b[0m==================================\n",
      "Tool Calls:\n",
      "  Get_Product_Features (call_F2TDWnYOIzV9CfISoVWhcL2h)\n",
      " Call ID: call_F2TDWnYOIzV9CfISoVWhcL2h\n",
      "  Args:\n",
      "    query: GammaAir\n",
      "  get_laptop_price (call_JbaFa0BbejSMJHU8In9hLUaa)\n",
      " Call ID: call_JbaFa0BbejSMJHU8In9hLUaa\n",
      "  Args:\n",
      "    laptop_name: GammaAir\n",
      "=================================\u001b[1m Tool Message \u001b[0m=================================\n",
      "Name: get_laptop_price\n",
      "\n",
      "1399\n",
      "==================================\u001b[1m Ai Message \u001b[0m==================================\n",
      "\n",
      "The **GammaAir X** laptop features the following specifications:\n",
      "\n",
      "- **Processor:** AMD Ryzen 7\n",
      "- **Memory:** 32GB of DDR4 RAM\n",
      "- **Storage:** 512GB NVMe SSD\n",
      "- **Design:** Thin and light form factor\n",
      "- **Advantages:** High performance in a portable design\n",
      "\n",
      "The price for the GammaAir X is **$1,399**.\n"
     ]
    }
   ],
   "source": [
    "#Setup chatbot\n",
    "import uuid\n",
    "#To maintain memory, each request should be in the context of a thread.\n",
    "#Each user conversation will use a separate thread ID\n",
    "config = {\"configurable\": {\"thread_id\": uuid.uuid4()}}\n",
    "\n",
    "#Test the agent with an input\n",
    "inputs = {\"messages\":[\n",
    "                HumanMessage(\"What are the features and pricing for GammaAir?\")\n",
    "            ]}\n",
    "\n",
    "#Use streaming to print responses as the agent  does the work.\n",
    "#This is an alternate way to stream agent responses without waiting for the agent to finish\n",
    "for stream in product_QnA_agent.stream(inputs, config, stream_mode=\"values\"):\n",
    "    message=stream[\"messages\"][-1]\n",
    "    \n",
    "    if isinstance(message, tuple):\n",
    "        print(message)\n",
    "    else:\n",
    "        message.pretty_print()"
   ]
  },
  {
   "cell_type": "code",
   "execution_count": 16,
   "id": "de0a5ffd-48ad-4e0b-a33c-c7cd1e89cdf5",
   "metadata": {},
   "outputs": [
    {
     "name": "stdout",
     "output_type": "stream",
     "text": [
      "----------------------------------------\n",
      "USER : Hello\n",
      "AGENT : Hello! How can I assist you today with your laptop inquiries?\n",
      "----------------------------------------\n",
      "USER : I am looking to buy a laptop\n",
      "AGENT : Great! I can help you with information about the laptops we have available, including their features and prices. Do you have any specific requirements or preferences for your new laptop?\n",
      "----------------------------------------\n",
      "USER : Give me a list of available laptop names\n",
      "AGENT : Here are the available laptops we currently offer:\n",
      "\n",
      "1. **AlphaBook Pro**: A sleek ultrabook with a 12th Gen Intel i7 processor, 16GB of DDR4 RAM, and a fast 1TB SSD. Ideal for professionals on the go.\n",
      "\n",
      "2. **GammaAir X**: Combines an AMD Ryzen 7 processor with 32GB of DDR4 memory and a 512GB NVMe SSD. It's thin and light, perfect for high performance in a portable design.\n",
      "\n",
      "3. **SpectraBook S**: Designed for power users with an Intel Core i9 processor, 64GB RAM, and a massive 2TB SSD. Suitable for intensive tasks like video editing and 3D rendering.\n",
      "\n",
      "4. **OmegaPro G17**: A gaming powerhouse with a Ryzen 9 5900HX CPU, 32GB RAM, and a 1TB SSD. Built for gamers with a 17-inch display and powerful graphics card.\n",
      "\n",
      "5. **NanoEdge Flex**: [Details not provided in the description.]\n",
      "\n",
      "Let me know if you need more information or if you are interested in any specific model!\n",
      "----------------------------------------\n",
      "USER : Tell me about the features of  SpectraBook\n",
      "AGENT : The **SpectraBook S** is designed for power users and comes with the following features:\n",
      "\n",
      "- **Processor**: Intel Core i9\n",
      "- **RAM**: 64GB\n",
      "- **Storage**: Massive 2TB SSD\n",
      "\n",
      "This workstation-class laptop is perfect for intensive tasks such as video editing and 3D rendering. If you need more information or have any other questions, feel free to ask!\n",
      "----------------------------------------\n",
      "USER : How much does it cost?\n",
      "AGENT : The **SpectraBook S** is priced at $2,499. If you have any more questions or need further assistance, feel free to ask!\n",
      "----------------------------------------\n",
      "USER : Give me similar information about OmegaPro\n",
      "AGENT : The **OmegaPro G17** is a gaming powerhouse with the following features:\n",
      "\n",
      "- **Processor**: Ryzen 9 5900HX CPU\n",
      "- **RAM**: 32GB\n",
      "- **Storage**: 1TB SSD\n",
      "- **Display**: 17-inch with a high refresh rate\n",
      "- **Graphics**: Powerful graphics card for the best gaming experience\n",
      "\n",
      "The price for the OmegaPro G17 is $2,199. If you have any more questions or need further assistance, feel free to ask!\n",
      "----------------------------------------\n",
      "USER : What info do you have on AcmeRight ?\n",
      "AGENT : I'm sorry, but I don't have any information on a laptop named \"AcmeRight.\" If you meant a different model or need help with something else, please let me know!\n",
      "----------------------------------------\n",
      "USER : Thanks for the help\n",
      "AGENT : You're welcome! If you have any more questions in the future or need further assistance, feel free to reach out. Have a great day!\n"
     ]
    }
   ],
   "source": [
    "import uuid\n",
    "#Send a sequence of messages to chatbot and get its response\n",
    "#This simulates the conversation between the user and the Agentic chatbot\n",
    "user_inputs = [\n",
    "    \"Hello\",\n",
    "    \"I am looking to buy a laptop\",\n",
    "    \"Give me a list of available laptop names\",\n",
    "    \"Tell me about the features of  SpectraBook\",\n",
    "    \"How much does it cost?\",\n",
    "    \"Give me similar information about OmegaPro\",\n",
    "    \"What info do you have on AcmeRight ?\",\n",
    "    \"Thanks for the help\"\n",
    "]\n",
    "\n",
    "#Create a new thread\n",
    "config = {\"configurable\": {\"thread_id\": str(uuid.uuid4())}}\n",
    "\n",
    "for input in user_inputs:\n",
    "    print(f\"----------------------------------------\\nUSER : {input}\")\n",
    "    #Format the user message\n",
    "    user_message = {\"messages\":[HumanMessage(input)]}\n",
    "    #Get response from the agent\n",
    "    ai_response = product_QnA_agent.invoke(user_message,config=config)\n",
    "    #Print the response\n",
    "    print(f\"AGENT : {ai_response['messages'][-1].content}\")\n",
    "    "
   ]
  },
  {
   "cell_type": "code",
   "execution_count": 17,
   "id": "211a1b46-a07b-4a6e-899f-d3bfdbb6344d",
   "metadata": {},
   "outputs": [
    {
     "name": "stdout",
     "output_type": "stream",
     "text": [
      "\n",
      "USER 1: The SpectraBook S is designed for power users and features the following specifications:\n",
      "\n",
      "- **Processor:** Intel Core i9\n",
      "- **RAM:** 64GB\n",
      "- **Storage:** 2TB SSD\n",
      "\n",
      "This workstation-class laptop is perfect for intensive tasks like video editing and 3D rendering.\n",
      "\n",
      "USER 2: The GammaAir X is equipped with an AMD Ryzen 7 processor, 32GB of DDR4 memory, and a 512GB NVMe SSD. Its thin and light form factor makes it ideal for users who require high performance in a portable design.\n",
      "\n",
      "USER 1: The price of the SpectraBook S is $2,499.\n",
      "\n",
      "USER 2: The price of the GammaAir X is $1399.\n"
     ]
    }
   ],
   "source": [
    "#conversation memory by user\n",
    "def execute_prompt(user, config, prompt):\n",
    "    inputs = {\"messages\":[(\"user\",prompt)]}\n",
    "    ai_response = product_QnA_agent.invoke(inputs,config=config)\n",
    "    print(f\"\\n{user}: {ai_response['messages'][-1].content}\")\n",
    "\n",
    "#Create different session threads for 2 users\n",
    "config_1 = {\"configurable\": {\"thread_id\": str(uuid.uuid4())}}\n",
    "config_2 = {\"configurable\": {\"thread_id\": str(uuid.uuid4())}}\n",
    "\n",
    "#Test both threads\n",
    "execute_prompt(\"USER 1\", config_1, \"Tell me about the features of  SpectraBook\")\n",
    "execute_prompt(\"USER 2\", config_2, \"Tell me about the features of  GammaAir\")\n",
    "execute_prompt(\"USER 1\", config_1, \"What is its price ?\")\n",
    "execute_prompt(\"USER 2\", config_2, \"What is its price ?\")\n",
    "\n"
   ]
  }
 ],
 "metadata": {
  "kernelspec": {
   "display_name": "demonstrations",
   "language": "python",
   "name": "python3"
  },
  "language_info": {
   "codemirror_mode": {
    "name": "ipython",
    "version": 3
   },
   "file_extension": ".py",
   "mimetype": "text/x-python",
   "name": "python",
   "nbconvert_exporter": "python",
   "pygments_lexer": "ipython3",
   "version": "3.11.11"
  }
 },
 "nbformat": 4,
 "nbformat_minor": 5
}
