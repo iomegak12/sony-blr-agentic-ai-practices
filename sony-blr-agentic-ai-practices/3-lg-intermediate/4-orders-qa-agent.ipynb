{
 "cells": [
  {
   "cell_type": "code",
   "execution_count": 1,
   "id": "3e819230-ef2c-45d0-96a5-0d9b7bcfba86",
   "metadata": {},
   "outputs": [],
   "source": [
    "from langchain_openai import ChatOpenAI, OpenAIEmbeddings\n",
    "from dotenv import load_dotenv\n",
    "\n",
    "load_dotenv()\n",
    "\n",
    "model = ChatOpenAI(model=\"gpt-4o\", temperature=0.5, max_tokens=1000)"
   ]
  },
  {
   "cell_type": "code",
   "execution_count": 2,
   "id": "ffac048d-b578-42b9-a420-f03b03dc0aa9",
   "metadata": {},
   "outputs": [
    {
     "name": "stdout",
     "output_type": "stream",
     "text": [
      "   Order ID Product Ordered  Quantity Ordered Delivery Date\n",
      "0  ORD-8276   SpectraBook S                 3    2024-10-16\n",
      "1  ORD-6948    OmegaPro G17                 3    2024-10-25\n",
      "2  ORD-7311   NanoEdge Flex                 2    2024-10-19\n",
      "3  ORD-4633    OmegaPro G17                 2    2024-10-15\n",
      "4  ORD-2050      GammaAir X                 2    2024-10-26\n"
     ]
    }
   ],
   "source": [
    "import pandas as pd\n",
    "\n",
    "#Load the laptop product orders CSV into a Pandas dataframe.\n",
    "product_orders_df = pd.read_csv(\"../../sony-blr-agentic-ai-practices/lc-training-data/ai-agents-data/Laptop Orders.csv\")\n",
    "print(product_orders_df)"
   ]
  },
  {
   "cell_type": "code",
   "execution_count": 3,
   "id": "a6caa5ac-ae0c-495e-bc0a-f0846f22f6b9",
   "metadata": {},
   "outputs": [],
   "source": [
    "from langchain_core.tools import tool\n",
    "\n",
    "@tool\n",
    "def get_order_details(order_id:str) -> str :\n",
    "    \"\"\"\n",
    "    This function returns details about a laptop order, given an order ID\n",
    "    It performs an exact match between the input order id and available order ids\n",
    "    If a match is found, it returns products (laptops) ordered, quantity ordered and delivery date.\n",
    "    If there is NO match found, it returns -1\n",
    "    \"\"\"\n",
    "    #Filter Dataframe for order ID\n",
    "    match_order_df = product_orders_df[\n",
    "                        product_orders_df[\"Order ID\"] == order_id ]\n",
    "\n",
    "    #Check if a record was found, if not return -1\n",
    "    if len(match_order_df) == 0 :\n",
    "        return -1\n",
    "    else:\n",
    "        return match_order_df.iloc[0].to_dict()\n"
   ]
  },
  {
   "cell_type": "code",
   "execution_count": 4,
   "id": "db5ea74b",
   "metadata": {},
   "outputs": [
    {
     "name": "stdout",
     "output_type": "stream",
     "text": [
      "{'Order ID': 'ORD-6948', 'Product Ordered': 'OmegaPro G17', 'Quantity Ordered': 3, 'Delivery Date': '2024-10-25'}\n"
     ]
    },
    {
     "name": "stderr",
     "output_type": "stream",
     "text": [
      "C:\\Users\\jdram\\AppData\\Local\\Temp\\ipykernel_17920\\1801561599.py:2: LangChainDeprecationWarning: The method `BaseTool.__call__` was deprecated in langchain-core 0.1.47 and will be removed in 1.0. Use :meth:`~invoke` instead.\n",
      "  print(get_order_details(\"ORD-6948\"))\n"
     ]
    }
   ],
   "source": [
    "#Test the tool. Before running the test, comment the @tool annotation\n",
    "print(get_order_details(\"ORD-6948\"))"
   ]
  },
  {
   "cell_type": "code",
   "execution_count": 5,
   "id": "e66d5897",
   "metadata": {},
   "outputs": [
    {
     "name": "stdout",
     "output_type": "stream",
     "text": [
      "-1\n"
     ]
    }
   ],
   "source": [
    "print(get_order_details(\"ORD-9999\"))"
   ]
  },
  {
   "cell_type": "code",
   "execution_count": 13,
   "id": "e9e67c9d",
   "metadata": {},
   "outputs": [],
   "source": [
    "@tool\n",
    "def update_quantity(order_id: str, new_quantity: int) -> bool:\n",
    "    \"\"\"\n",
    "    This function updates the quantity of products ( laptops ) ordered for a given order Id.\n",
    "    It there are no matching orders, it returns False.\n",
    "    \"\"\"\n",
    "    try:\n",
    "        # Find if matching record exists\n",
    "        match_order_df = product_orders_df[\n",
    "            product_orders_df[\"Order ID\"] == order_id]\n",
    "\n",
    "        # Check if a record was found, if not return False\n",
    "        if len(match_order_df) == 0:\n",
    "            return False\n",
    "        else:\n",
    "            product_orders_df.loc[\n",
    "                product_orders_df[\"Order ID\"] == order_id,\n",
    "                \"Quantity Ordered\"] = new_quantity\n",
    "\n",
    "            return True\n",
    "    except Exception as e:\n",
    "        print(f\"Exception occurred while updating quantity: {e}\")\n",
    "        return False"
   ]
  },
  {
   "cell_type": "code",
   "execution_count": 7,
   "id": "2f151bbf",
   "metadata": {},
   "outputs": [
    {
     "name": "stdout",
     "output_type": "stream",
     "text": [
      "{'Order ID': 'ORD-6948', 'Product Ordered': 'OmegaPro G17', 'Quantity Ordered': 3, 'Delivery Date': '2024-10-25'}\n"
     ]
    }
   ],
   "source": [
    "#Test the tool. Before running the test, comment the @tool annotation\n",
    "print(get_order_details(\"ORD-6948\"))"
   ]
  },
  {
   "cell_type": "code",
   "execution_count": 12,
   "id": "2098e7f3",
   "metadata": {},
   "outputs": [
    {
     "name": "stdout",
     "output_type": "stream",
     "text": [
      "True\n"
     ]
    }
   ],
   "source": [
    "# print(update_quantity(\"ORD-6948\", 1))"
   ]
  },
  {
   "cell_type": "code",
   "execution_count": 14,
   "id": "69173415",
   "metadata": {},
   "outputs": [
    {
     "name": "stdout",
     "output_type": "stream",
     "text": [
      "{'Order ID': 'ORD-6948', 'Product Ordered': 'OmegaPro G17', 'Quantity Ordered': 1, 'Delivery Date': '2024-10-25'}\n"
     ]
    }
   ],
   "source": [
    "print(get_order_details(\"ORD-6948\"))"
   ]
  },
  {
   "cell_type": "code",
   "execution_count": null,
   "id": "1feaea83",
   "metadata": {},
   "outputs": [],
   "source": [
    "# print(update_quantity(\"ORD-9999\",2))"
   ]
  },
  {
   "cell_type": "code",
   "execution_count": 15,
   "id": "bac4c1b9",
   "metadata": {},
   "outputs": [
    {
     "name": "stdout",
     "output_type": "stream",
     "text": [
      "   Order ID Product Ordered  Quantity Ordered Delivery Date\n",
      "0  ORD-8276   SpectraBook S                 3    2024-10-16\n",
      "1  ORD-6948    OmegaPro G17                 1    2024-10-25\n",
      "2  ORD-7311   NanoEdge Flex                 2    2024-10-19\n",
      "3  ORD-4633    OmegaPro G17                 2    2024-10-15\n",
      "4  ORD-2050      GammaAir X                 2    2024-10-26\n"
     ]
    }
   ],
   "source": [
    "print(product_orders_df)"
   ]
  },
  {
   "cell_type": "code",
   "execution_count": 16,
   "id": "a14d7334-8b93-4e9a-8995-1a369038823e",
   "metadata": {},
   "outputs": [
    {
     "data": {
      "image/png": "[encoded data removed]",
      "text/plain": [
       "<IPython.core.display.Image object>"
      ]
     },
     "execution_count": 16,
     "metadata": {},
     "output_type": "execute_result"
    }
   ],
   "source": [
    "from langgraph.graph import StateGraph, END\n",
    "from langgraph.checkpoint.memory import MemorySaver\n",
    "from typing import TypedDict, Annotated\n",
    "import operator\n",
    "from langchain_core.messages import AnyMessage, SystemMessage, HumanMessage, ToolMessage\n",
    "from IPython.display import Image\n",
    "import json\n",
    "\n",
    "#An Agent State class that keep state of the agent while it answers a query\n",
    "class OrdersAgentState(TypedDict):\n",
    "    messages: Annotated[list[AnyMessage], operator.add]\n",
    "\n",
    "#-----------------------------------------------------------------------------\n",
    "#An agent class that manages all agentic interactions\n",
    "class OrdersAgent:\n",
    "\n",
    "    #Setup the agent graph, tools and memory\n",
    "    def __init__(self, model, tools, system_prompt, debug):\n",
    "        \n",
    "        self.system_prompt=system_prompt\n",
    "        self.debug=debug\n",
    "\n",
    "        #Setup the graph for the agent manually\n",
    "        agent_graph=StateGraph(OrdersAgentState)\n",
    "        agent_graph.add_node(\"orders_llm\",self.call_llm)\n",
    "        agent_graph.add_node(\"orders_tools\",self.call_tools)\n",
    "        agent_graph.add_conditional_edges(\n",
    "            \"orders_llm\",\n",
    "            self.is_tool_call,\n",
    "            {True: \"orders_tools\", False: END }\n",
    "        )\n",
    "        agent_graph.add_edge(\"orders_tools\",\"orders_llm\")\n",
    "        #Set where there graph starts\n",
    "        agent_graph.set_entry_point(\"orders_llm\")\n",
    "\n",
    "        #Add chat memory\n",
    "        self.memory=MemorySaver()\n",
    "        #compile the graph\n",
    "        self.agent_graph = agent_graph.compile(checkpointer=self.memory)\n",
    "\n",
    "        #Setup tools\n",
    "        self.tools = { tool.name : tool for tool in tools }\n",
    "        if self.debug:\n",
    "            print(\"\\nTools loaded :\", self.tools)\n",
    "            \n",
    "        #attach tools to model\n",
    "        self.model=model.bind_tools(tools)\n",
    "\n",
    "\n",
    "    #Call the LLM with the messages to get next action/result\n",
    "    def call_llm(self, state:OrdersAgentState):\n",
    "        \n",
    "        messages=state[\"messages\"]\n",
    "\n",
    "        #If system prompt exists, add to messages in the front\n",
    "        if self.system_prompt:\n",
    "            messages = [SystemMessage(content=self.system_prompt)] + messages\n",
    "            \n",
    "        #invoke the model with the message history\n",
    "        result = self.model.invoke(messages)\n",
    "        if self.debug:\n",
    "            print(f\"\\nLLM Returned : {result}\")\n",
    "        #Return the LLM output\n",
    "        return { \"messages\":[result] }\n",
    "    \n",
    "    \n",
    "    #Check if the next action is a tool call.\n",
    "    def is_tool_call(self, state:OrdersAgentState):\n",
    "        last_message = state[\"messages\"][-1]\n",
    "        #print(\"Last result from LLM : \", last_message)\n",
    "        #If tool action is requested\n",
    "        if len(last_message.tool_calls) > 0 :\n",
    "            return True\n",
    "        else:\n",
    "            return False\n",
    "\n",
    "    #Execute the tool requested with the given parameters\n",
    "    def call_tools(self, state:OrdersAgentState):\n",
    "        #Get last message\n",
    "        tool_calls = state[\"messages\"][-1].tool_calls\n",
    "        results=[]\n",
    "\n",
    "        #Multiple tool calls may be requested. Execute one by one\n",
    "        for tool in tool_calls:\n",
    "            #Handle tool missing error\n",
    "            if not tool[\"name\"] in self.tools:\n",
    "                print(f\"Unknown tool name {tool}\")\n",
    "                result = \"Invalid tool found. Please retry\"\n",
    "            else:\n",
    "                #Call the tool and collect results\n",
    "                result=self.tools[tool[\"name\"]].invoke(tool[\"args\"])\n",
    "\n",
    "            #append results to the list of tool results\n",
    "            results.append(ToolMessage(tool_call_id=tool['id'], \n",
    "                                       name=tool['name'], \n",
    "                                       content=str(result)))\n",
    "\n",
    "            if self.debug:\n",
    "                print(f\"\\nTools returned {results}\")\n",
    "            #return tool results\n",
    "            return { \"messages\" : results }\n",
    "\n",
    "#-----------------------------------------------------------------------------\n",
    "#Setup the custom agent\n",
    "\n",
    "#Note that this is a string, since the model init only accepts a string.\n",
    "system_prompt = \"\"\"\n",
    "    You are professional chatbot that manages orders for laptops sold by our company.\n",
    "    The tools allow for retrieving order details as well as update order quantity.\n",
    "    Do NOT reveal information about other orders than the one requested.\n",
    "    You will handle small talk and greetings by producing professional responses.\n",
    "    \"\"\"\n",
    "\n",
    "#Create the custom orders agent\n",
    "orders_agent = OrdersAgent(model, \n",
    "                           [get_order_details, update_quantity], \n",
    "                           system_prompt,\n",
    "                           debug=False)\n",
    "\n",
    "#Visualize the Agent\n",
    "Image(orders_agent.agent_graph.get_graph().draw_mermaid_png())\n",
    "        "
   ]
  },
  {
   "cell_type": "code",
   "execution_count": 17,
   "id": "c422b70e-f9ac-4810-85b0-9824af315739",
   "metadata": {},
   "outputs": [
    {
     "name": "stdout",
     "output_type": "stream",
     "text": [
      "----------------------------------------\n",
      "USER : How are you doing?\n",
      "\n",
      "AGENT : I'm here to assist you with your laptop orders. How can I help you today?\n",
      "----------------------------------------\n",
      "USER : Please show me the details of the order ORD-7311\n",
      "\n",
      "AGENT : Here are the details for order **ORD-7311**:\n",
      "\n",
      "- **Product Ordered:** NanoEdge Flex\n",
      "- **Quantity Ordered:** 2\n",
      "- **Delivery Date:** 2024-10-19\n",
      "\n",
      "If you need further assistance, please let me know!\n",
      "----------------------------------------\n",
      "USER : Can you add one more of that laptop to the order? \n",
      "\n",
      "AGENT : The quantity for order **ORD-7311** has been successfully updated to 3 NanoEdge Flex laptops. If there's anything else you need, feel free to ask!\n",
      "----------------------------------------\n",
      "USER : Can you show me the details again ? \n",
      "\n",
      "AGENT : Here are the updated details for order **ORD-7311**:\n",
      "\n",
      "- **Product Ordered:** NanoEdge Flex\n",
      "- **Quantity Ordered:** 3\n",
      "- **Delivery Date:** 2024-10-19\n",
      "\n",
      "If you have any more questions or need further assistance, feel free to ask!\n",
      "----------------------------------------\n",
      "USER : What about order ORD-9999 ?\n",
      "\n",
      "AGENT : I'm sorry, but there is no order with the ID **ORD-9999** in our records. Please check the order ID and try again, or let me know if there's anything else I can assist you with!\n",
      "----------------------------------------\n",
      "USER : Bye\n",
      "\n",
      "AGENT : Thank you for reaching out. If you need assistance in the future, feel free to contact me. Have a great day! Goodbye!\n"
     ]
    }
   ],
   "source": [
    "import uuid\n",
    "\n",
    "user_inputs = [\n",
    "    \"How are you doing?\",\n",
    "    \"Please show me the details of the order ORD-7311\",\n",
    "    \"Can you add one more of that laptop to the order? \",\n",
    "    \"Can you show me the details again ? \",\n",
    "    \"What about order ORD-9999 ?\",\n",
    "    \"Bye\"\n",
    "]\n",
    "\n",
    "config = {\"configurable\": {\"thread_id\": str(uuid.uuid4())}}\n",
    "\n",
    "for input in user_inputs:\n",
    "    print(f\"----------------------------------------\\nUSER : {input}\")\n",
    "    #Format the user message\n",
    "    user_message = {\"messages\":[HumanMessage(input)]}\n",
    "    #Get response from the agent\n",
    "    ai_response = orders_agent.agent_graph.invoke(user_message,config=config)\n",
    "    #Print the response\n",
    "    print(f\"\\nAGENT : {ai_response['messages'][-1].content}\")"
   ]
  },
  {
   "cell_type": "code",
   "execution_count": 18,
   "id": "be7b4f51",
   "metadata": {},
   "outputs": [
    {
     "name": "stdout",
     "output_type": "stream",
     "text": [
      "   Order ID Product Ordered  Quantity Ordered Delivery Date\n",
      "0  ORD-8276   SpectraBook S                 3    2024-10-16\n",
      "1  ORD-6948    OmegaPro G17                 1    2024-10-25\n",
      "2  ORD-7311   NanoEdge Flex                 3    2024-10-19\n",
      "3  ORD-4633    OmegaPro G17                 2    2024-10-15\n",
      "4  ORD-2050      GammaAir X                 2    2024-10-26\n"
     ]
    }
   ],
   "source": [
    "print(product_orders_df)"
   ]
  }
 ],
 "metadata": {
  "kernelspec": {
   "display_name": "demonstrations",
   "language": "python",
   "name": "python3"
  },
  "language_info": {
   "codemirror_mode": {
    "name": "ipython",
    "version": 3
   },
   "file_extension": ".py",
   "mimetype": "text/x-python",
   "name": "python",
   "nbconvert_exporter": "python",
   "pygments_lexer": "ipython3",
   "version": "3.11.11"
  }
 },
 "nbformat": 4,
 "nbformat_minor": 5
}
