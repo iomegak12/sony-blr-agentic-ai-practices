{
 "cells": [
  {
   "cell_type": "markdown",
   "id": "36ec8827",
   "metadata": {},
   "source": [
    "### RAG Fundamentals - Document Loaders"
   ]
  },
  {
   "cell_type": "code",
   "execution_count": null,
   "id": "01b72802",
   "metadata": {},
   "outputs": [],
   "source": [
    "import os\n",
    "\n",
    "from dotenv import load_dotenv\n",
    "from langchain_openai import ChatOpenAI\n"
   ]
  },
  {
   "cell_type": "code",
   "execution_count": null,
   "id": "90973be0",
   "metadata": {},
   "outputs": [],
   "source": [
    "load_dotenv()\n",
    "\n",
    "openai_api_key = os.getenv(\"OPENAI_API_KEY\")\n",
    "\n",
    "if not openai_api_key:\n",
    "    raise ValueError(\"Please set the OPENAI_API_KEY environment variable.\")\n",
    "\n",
    "model_name = \"gpt-4o\"\n",
    "temperature = 0.0\n",
    "llm = ChatOpenAI(\n",
    "    model=model_name,\n",
    "    temperature=temperature,\n",
    "    openai_api_key=openai_api_key\n",
    ")"
   ]
  },
  {
   "cell_type": "code",
   "execution_count": null,
   "id": "f518375c",
   "metadata": {},
   "outputs": [],
   "source": [
    "from langchain.document_loaders import UnstructuredFileLoader\n",
    "\n",
    "loader = UnstructuredFileLoader(\"./when.txt\")\n",
    "\n",
    "data = loader.load()"
   ]
  },
  {
   "cell_type": "code",
   "execution_count": null,
   "id": "f7d6071d",
   "metadata": {},
   "outputs": [],
   "source": [
    "print(len(data))"
   ]
  },
  {
   "cell_type": "code",
   "execution_count": null,
   "id": "8a64d19e",
   "metadata": {},
   "outputs": [],
   "source": [
    "print(data[0].metadata)\n",
    "print(data[0].page_content[:1000])  # Print the first 1000 characters of the content"
   ]
  },
  {
   "cell_type": "code",
   "execution_count": null,
   "id": "63dfa47d",
   "metadata": {},
   "outputs": [],
   "source": [
    "from langchain.text_splitter import RecursiveCharacterTextSplitter\n",
    "\n",
    "text_splitter = RecursiveCharacterTextSplitter(\n",
    "    chunk_size=1000,\n",
    "    chunk_overlap=200,\n",
    "    length_function=len\n",
    ")\n",
    "\n",
    "texts = text_splitter.create_documents([doc.page_content for doc in data])\n",
    "for idx, text in enumerate(texts, start=1):\n",
    "    text.metadata = data[0].metadata.copy()  # Use a copy to avoid shared references\n",
    "    text.metadata[\"chunk_id\"] = idx\n",
    "    print(f\"Chunk ID: {text.metadata['chunk_id']}, Length: {len(text.page_content)}\")\n",
    "\n",
    "print(texts)\n",
    "print(len(texts))\n",
    "print(texts[0].metadata)\n",
    "\n",
    "# Print the first 1000 characters of the content\n",
    "print(texts[0].page_content[:1000])\n"
   ]
  }
 ],
 "metadata": {
  "kernelspec": {
   "display_name": "demonstrations",
   "language": "python",
   "name": "python3"
  },
  "language_info": {
   "codemirror_mode": {
    "name": "ipython",
    "version": 3
   },
   "file_extension": ".py",
   "mimetype": "text/x-python",
   "name": "python",
   "nbconvert_exporter": "python",
   "pygments_lexer": "ipython3",
   "version": "3.11.11"
  }
 },
 "nbformat": 4,
 "nbformat_minor": 5
}
