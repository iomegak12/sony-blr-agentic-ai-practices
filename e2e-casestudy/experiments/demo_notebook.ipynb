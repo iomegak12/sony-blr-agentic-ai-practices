{
 "cells": [
  {
   "cell_type": "markdown",
   "id": "cb000e85",
   "metadata": {},
   "source": [
    "# Self-RAG Using Modularized LangGraph\n",
    "\n",
    "This notebook demonstrates how to use the modularized Self-RAG system based on LangGraph."
   ]
  },
  {
   "cell_type": "markdown",
   "id": "e768e565",
   "metadata": {},
   "source": [
    "## Setup\n",
    "\n",
    "First, let's make sure we have all the required packages installed:"
   ]
  },
  {
   "cell_type": "code",
   "execution_count": null,
   "id": "6f251a07",
   "metadata": {},
   "outputs": [],
   "source": [
    "# Install required packages if needed\n",
    "# !pip install -r \"../requirements.txt\"\n",
    "\n",
    "# Update path to include the parent directory for imports\n",
    "import sys\n",
    "import os\n",
    "sys.path.append('..')  # Add the parent directory to path"
   ]
  },
  {
   "cell_type": "markdown",
   "id": "c7cbf4be",
   "metadata": {},
   "source": [
    "## Import the SelfRAG System\n",
    "\n",
    "We'll import the main SelfRAG class that provides an easy interface to our modularized system:"
   ]
  },
  {
   "cell_type": "code",
   "execution_count": null,
   "id": "1d303cfd",
   "metadata": {},
   "outputs": [],
   "source": [
    "import sys\n",
    "sys.path.append(\"..\")  # Add the parent directory to path\n",
    "sys.path.append(\"../e2e_lg_rag\")  # Add the e2e_lg_rag directory to path\n",
    "\n",
    "from main import SelfRAG"
   ]
  },
  {
   "cell_type": "markdown",
   "id": "d5ee8402",
   "metadata": {},
   "source": [
    "## Initialize the SelfRAG System\n",
    "\n",
    "Now we'll initialize our SelfRAG system with some data sources:"
   ]
  },
  {
   "cell_type": "code",
   "execution_count": null,
   "id": "a7768e4c",
   "metadata": {},
   "outputs": [],
   "source": [
    "# Define URLs to use for our knowledge base\n",
    "urls = [\n",
    "    \"https://lilianweng.github.io/posts/2023-06-23-agent/\",\n",
    "    \"https://lilianweng.github.io/posts/2023-03-15-prompt-engineering/\",\n",
    "    \"https://lilianweng.github.io/posts/2023-10-25-adv-attack-llm/\",\n",
    "]\n",
    "\n",
    "# Initialize the SelfRAG system with our data sources\n",
    "self_rag = SelfRAG(urls=urls)"
   ]
  },
  {
   "cell_type": "markdown",
   "id": "b13a674a",
   "metadata": {},
   "source": [
    "## Visualize the Workflow\n",
    "\n",
    "Let's visualize the workflow graph to understand how our components are connected:"
   ]
  },
  {
   "cell_type": "code",
   "execution_count": null,
   "id": "02de04ee",
   "metadata": {},
   "outputs": [],
   "source": [
    "from IPython.display import Image\n",
    "\n",
    "# Generate and display a visualization of the workflow graph\n",
    "Image(self_rag.app.get_graph().draw_mermaid_png())"
   ]
  },
  {
   "cell_type": "markdown",
   "id": "52b2e848",
   "metadata": {},
   "source": [
    "## Run Queries\n",
    "\n",
    "Now let's run some example queries through our Self-RAG system:"
   ]
  },
  {
   "cell_type": "code",
   "execution_count": null,
   "id": "36fcf251",
   "metadata": {},
   "outputs": [],
   "source": [
    "# Example query 1: Ask about agent memory\n",
    "question = \"Explain how the different types of agent memory work?\"\n",
    "answer = self_rag.run(question)\n",
    "print(\"\\nFinal Answer:\")\n",
    "print(answer)"
   ]
  },
  {
   "cell_type": "code",
   "execution_count": null,
   "id": "04a9b7ea",
   "metadata": {},
   "outputs": [],
   "source": [
    "# Example query 2: Ask about chain of thought prompting\n",
    "question = \"Explain how chain of thought prompting works?\"\n",
    "answer = self_rag.run(question)\n",
    "print(\"\\nFinal Answer:\")\n",
    "print(answer)"
   ]
  },
  {
   "cell_type": "markdown",
   "id": "9a8ce1de",
   "metadata": {},
   "source": [
    "## Create a Custom SelfRAG System\n",
    "\n",
    "You can also create a custom SelfRAG system with your own data sources:"
   ]
  },
  {
   "cell_type": "code",
   "execution_count": null,
   "id": "b11d3238",
   "metadata": {},
   "outputs": [],
   "source": [
    "# Define custom URLs\n",
    "custom_urls = [\n",
    "    \"https://en.wikipedia.org/wiki/Artificial_intelligence\",\n",
    "    \"https://en.wikipedia.org/wiki/Machine_learning\"\n",
    "]\n",
    "\n",
    "# Initialize a custom SelfRAG system\n",
    "custom_rag = SelfRAG(urls=custom_urls)\n",
    "\n",
    "# Run a query\n",
    "question = \"What is the relationship between AI and machine learning?\"\n",
    "answer = custom_rag.run(question)\n",
    "print(\"\\nFinal Answer:\")\n",
    "print(answer)"
   ]
  },
  {
   "cell_type": "markdown",
   "id": "84f2d040",
   "metadata": {},
   "source": [
    "## Advanced: Accessing Individual Components\n",
    "\n",
    "You can also access individual components of the SelfRAG system if needed:"
   ]
  },
  {
   "cell_type": "code",
   "execution_count": null,
   "id": "cab2f3fd",
   "metadata": {},
   "outputs": [],
   "source": [
    "# Access the retriever\n",
    "docs = self_rag.retriever.invoke(\"What is chain of thought prompting?\")\n",
    "print(f\"Retrieved {len(docs)} documents\")\n",
    "\n",
    "# Example of using the question rewriter\n",
    "rewritten_question = self_rag.question_rewriter.invoke({\"question\": \"How do LLMs work?\"})\n",
    "print(f\"Original: How do LLMs work?\")\n",
    "print(f\"Rewritten: {rewritten_question}\")"
   ]
  }
 ],
 "metadata": {
  "kernelspec": {
   "display_name": "e2e-casestudy",
   "language": "python",
   "name": "python3"
  },
  "language_info": {
   "codemirror_mode": {
    "name": "ipython",
    "version": 3
   },
   "file_extension": ".py",
   "mimetype": "text/x-python",
   "name": "python",
   "nbconvert_exporter": "python",
   "pygments_lexer": "ipython3",
   "version": "3.11.11"
  }
 },
 "nbformat": 4,
 "nbformat_minor": 5
}
